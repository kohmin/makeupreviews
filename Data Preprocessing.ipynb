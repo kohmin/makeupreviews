{
 "cells": [
  {
   "cell_type": "code",
   "execution_count": 1,
   "metadata": {
    "id": "f5Rr3VEqgzIU"
   },
   "outputs": [],
   "source": [
    "import pandas as pd\n",
    "import numpy as np\n"
   ]
  },
  {
   "cell_type": "code",
   "execution_count": 2,
   "metadata": {
    "colab": {
     "base_uri": "https://localhost:8080/",
     "height": 202
    },
    "id": "ApqHVqXthIVh",
    "outputId": "802c4e16-cafa-4b97-afdb-c53f5ee6359b"
   },
   "outputs": [
    {
     "data": {
      "text/html": [
       "<div>\n",
       "<style scoped>\n",
       "    .dataframe tbody tr th:only-of-type {\n",
       "        vertical-align: middle;\n",
       "    }\n",
       "\n",
       "    .dataframe tbody tr th {\n",
       "        vertical-align: top;\n",
       "    }\n",
       "\n",
       "    .dataframe thead th {\n",
       "        text-align: right;\n",
       "    }\n",
       "</style>\n",
       "<table border=\"1\" class=\"dataframe\">\n",
       "  <thead>\n",
       "    <tr style=\"text-align: right;\">\n",
       "      <th></th>\n",
       "      <th>product</th>\n",
       "      <th>user_id</th>\n",
       "      <th>age</th>\n",
       "      <th>date</th>\n",
       "      <th>review</th>\n",
       "      <th>ratings</th>\n",
       "      <th>repurchase</th>\n",
       "      <th>packaging</th>\n",
       "    </tr>\n",
       "  </thead>\n",
       "  <tbody>\n",
       "    <tr>\n",
       "      <th>0</th>\n",
       "      <td>Blush - Orgasm</td>\n",
       "      <td>Leahmoriah4</td>\n",
       "      <td>44-55</td>\n",
       "      <td>a month ago</td>\n",
       "      <td>I'm 48, Caucasian with olive undertones so tru...</td>\n",
       "      <td>5.0</td>\n",
       "      <td>65%</td>\n",
       "      <td>4.1</td>\n",
       "    </tr>\n",
       "    <tr>\n",
       "      <th>1</th>\n",
       "      <td>Blush - Orgasm</td>\n",
       "      <td>Avalonian1172</td>\n",
       "      <td>30-35</td>\n",
       "      <td>2 months ago</td>\n",
       "      <td>I have to mention that the case is fabulous. A...</td>\n",
       "      <td>4.0</td>\n",
       "      <td>65%</td>\n",
       "      <td>4.1</td>\n",
       "    </tr>\n",
       "    <tr>\n",
       "      <th>2</th>\n",
       "      <td>Blush - Orgasm</td>\n",
       "      <td>summerseabreeze</td>\n",
       "      <td>30-35</td>\n",
       "      <td>4 months ago</td>\n",
       "      <td>A coral-pink peach blush with a very fine gold...</td>\n",
       "      <td>5.0</td>\n",
       "      <td>65%</td>\n",
       "      <td>4.1</td>\n",
       "    </tr>\n",
       "    <tr>\n",
       "      <th>3</th>\n",
       "      <td>Blush - Orgasm</td>\n",
       "      <td>miransees</td>\n",
       "      <td>30-35</td>\n",
       "      <td>5 months ago</td>\n",
       "      <td>I'm not sure if it's a \"Universal\" color. It's...</td>\n",
       "      <td>3.0</td>\n",
       "      <td>65%</td>\n",
       "      <td>4.1</td>\n",
       "    </tr>\n",
       "    <tr>\n",
       "      <th>4</th>\n",
       "      <td>Blush - Orgasm</td>\n",
       "      <td>outofherhead</td>\n",
       "      <td>56 &amp; Over</td>\n",
       "      <td>6 months ago</td>\n",
       "      <td>The blush that works for everyone does not wor...</td>\n",
       "      <td>2.0</td>\n",
       "      <td>65%</td>\n",
       "      <td>4.1</td>\n",
       "    </tr>\n",
       "  </tbody>\n",
       "</table>\n",
       "</div>"
      ],
      "text/plain": [
       "          product          user_id        age  ... ratings repurchase  packaging\n",
       "0  Blush - Orgasm      Leahmoriah4      44-55  ...     5.0        65%        4.1\n",
       "1  Blush - Orgasm    Avalonian1172      30-35  ...     4.0        65%        4.1\n",
       "2  Blush - Orgasm  summerseabreeze      30-35  ...     5.0        65%        4.1\n",
       "3  Blush - Orgasm        miransees      30-35  ...     3.0        65%        4.1\n",
       "4  Blush - Orgasm     outofherhead  56 & Over  ...     2.0        65%        4.1\n",
       "\n",
       "[5 rows x 8 columns]"
      ]
     },
     "execution_count": 2,
     "metadata": {
      "tags": []
     },
     "output_type": "execute_result"
    }
   ],
   "source": [
    "df = pd.read_csv('/content/products.csv').drop(['index', 'price'], axis=1)\n",
    "df.head()"
   ]
  },
  {
   "cell_type": "markdown",
   "metadata": {
    "id": "s75TNaoBq1fy"
   },
   "source": [
    "Data preprocessing"
   ]
  },
  {
   "cell_type": "code",
   "execution_count": 3,
   "metadata": {
    "colab": {
     "base_uri": "https://localhost:8080/",
     "height": 918
    },
    "id": "pHnBtezmh0o6",
    "outputId": "9ffd7d61-cb9b-4467-b943-eba1c0a3fedb"
   },
   "outputs": [
    {
     "name": "stdout",
     "output_type": "stream",
     "text": [
      "11 years ago     1281\n",
      "12 years ago     1248\n",
      "10 years ago     1143\n",
      "13 years ago      860\n",
      "9 years ago       759\n",
      "17 years ago      759\n",
      "16 years ago      746\n",
      "14 years ago      689\n",
      "15 years ago      654\n",
      "18 years ago      575\n",
      "8 years ago       537\n",
      "7 years ago       368\n",
      "6 years ago       238\n",
      "5 years ago       134\n",
      "19 years ago      121\n",
      "4 years ago        98\n",
      "3 years ago        52\n",
      "2 years ago        33\n",
      "20 years ago       20\n",
      "a year ago         17\n",
      "6 months ago        4\n",
      "10 months ago       3\n",
      "9 months ago        2\n",
      "7 months ago        2\n",
      "a month ago         2\n",
      "2 months ago        1\n",
      "5 months ago        1\n",
      "4 months ago        1\n",
      "Name: date, dtype: int64\n"
     ]
    },
    {
     "data": {
      "text/html": [
       "<div>\n",
       "<style scoped>\n",
       "    .dataframe tbody tr th:only-of-type {\n",
       "        vertical-align: middle;\n",
       "    }\n",
       "\n",
       "    .dataframe tbody tr th {\n",
       "        vertical-align: top;\n",
       "    }\n",
       "\n",
       "    .dataframe thead th {\n",
       "        text-align: right;\n",
       "    }\n",
       "</style>\n",
       "<table border=\"1\" class=\"dataframe\">\n",
       "  <thead>\n",
       "    <tr style=\"text-align: right;\">\n",
       "      <th></th>\n",
       "      <th>product</th>\n",
       "      <th>user_id</th>\n",
       "      <th>age</th>\n",
       "      <th>date</th>\n",
       "      <th>review</th>\n",
       "      <th>ratings</th>\n",
       "      <th>repurchase</th>\n",
       "      <th>packaging</th>\n",
       "    </tr>\n",
       "  </thead>\n",
       "  <tbody>\n",
       "    <tr>\n",
       "      <th>0</th>\n",
       "      <td>Blush - Orgasm</td>\n",
       "      <td>Leahmoriah4</td>\n",
       "      <td>44-55</td>\n",
       "      <td>a month ago</td>\n",
       "      <td>I'm 48, Caucasian with olive undertones so tru...</td>\n",
       "      <td>5.0</td>\n",
       "      <td>65%</td>\n",
       "      <td>4.1</td>\n",
       "    </tr>\n",
       "    <tr>\n",
       "      <th>1</th>\n",
       "      <td>Blush - Orgasm</td>\n",
       "      <td>Avalonian1172</td>\n",
       "      <td>30-35</td>\n",
       "      <td>2 months ago</td>\n",
       "      <td>I have to mention that the case is fabulous. A...</td>\n",
       "      <td>4.0</td>\n",
       "      <td>65%</td>\n",
       "      <td>4.1</td>\n",
       "    </tr>\n",
       "    <tr>\n",
       "      <th>2</th>\n",
       "      <td>Blush - Orgasm</td>\n",
       "      <td>summerseabreeze</td>\n",
       "      <td>30-35</td>\n",
       "      <td>4 months ago</td>\n",
       "      <td>A coral-pink peach blush with a very fine gold...</td>\n",
       "      <td>5.0</td>\n",
       "      <td>65%</td>\n",
       "      <td>4.1</td>\n",
       "    </tr>\n",
       "    <tr>\n",
       "      <th>3</th>\n",
       "      <td>Blush - Orgasm</td>\n",
       "      <td>miransees</td>\n",
       "      <td>30-35</td>\n",
       "      <td>5 months ago</td>\n",
       "      <td>I'm not sure if it's a \"Universal\" color. It's...</td>\n",
       "      <td>3.0</td>\n",
       "      <td>65%</td>\n",
       "      <td>4.1</td>\n",
       "    </tr>\n",
       "    <tr>\n",
       "      <th>4</th>\n",
       "      <td>Blush - Orgasm</td>\n",
       "      <td>outofherhead</td>\n",
       "      <td>56 &amp; Over</td>\n",
       "      <td>6 months ago</td>\n",
       "      <td>The blush that works for everyone does not wor...</td>\n",
       "      <td>2.0</td>\n",
       "      <td>65%</td>\n",
       "      <td>4.1</td>\n",
       "    </tr>\n",
       "    <tr>\n",
       "      <th>...</th>\n",
       "      <td>...</td>\n",
       "      <td>...</td>\n",
       "      <td>...</td>\n",
       "      <td>...</td>\n",
       "      <td>...</td>\n",
       "      <td>...</td>\n",
       "      <td>...</td>\n",
       "      <td>...</td>\n",
       "    </tr>\n",
       "    <tr>\n",
       "      <th>6706</th>\n",
       "      <td>Blush - Torrid</td>\n",
       "      <td>Steph0891</td>\n",
       "      <td>25-29</td>\n",
       "      <td>13 years ago</td>\n",
       "      <td>wow this blush is GORGEOUS! i like this alot m...</td>\n",
       "      <td>5.0</td>\n",
       "      <td>86%</td>\n",
       "      <td>4.2</td>\n",
       "    </tr>\n",
       "    <tr>\n",
       "      <th>6707</th>\n",
       "      <td>Blush - Torrid</td>\n",
       "      <td>MissPurple</td>\n",
       "      <td>19-24</td>\n",
       "      <td>13 years ago</td>\n",
       "      <td>I think I even like Torrid more than my belove...</td>\n",
       "      <td>5.0</td>\n",
       "      <td>86%</td>\n",
       "      <td>4.2</td>\n",
       "    </tr>\n",
       "    <tr>\n",
       "      <th>6708</th>\n",
       "      <td>Blush - Torrid</td>\n",
       "      <td>CraxFactor</td>\n",
       "      <td>25-29</td>\n",
       "      <td>13 years ago</td>\n",
       "      <td>All too often I've flipped over color and igno...</td>\n",
       "      <td>1.0</td>\n",
       "      <td>86%</td>\n",
       "      <td>4.2</td>\n",
       "    </tr>\n",
       "    <tr>\n",
       "      <th>6709</th>\n",
       "      <td>Blush - Torrid</td>\n",
       "      <td>gohgoomah</td>\n",
       "      <td>19-24</td>\n",
       "      <td>13 years ago</td>\n",
       "      <td>this is a beautiful coral shimmer blush, but f...</td>\n",
       "      <td>4.0</td>\n",
       "      <td>86%</td>\n",
       "      <td>4.2</td>\n",
       "    </tr>\n",
       "    <tr>\n",
       "      <th>6710</th>\n",
       "      <td>Blush - Torrid</td>\n",
       "      <td>lanae87</td>\n",
       "      <td>36-43</td>\n",
       "      <td>13 years ago</td>\n",
       "      <td>This is a gorgeous blush.  As previously menti...</td>\n",
       "      <td>3.0</td>\n",
       "      <td>86%</td>\n",
       "      <td>4.2</td>\n",
       "    </tr>\n",
       "  </tbody>\n",
       "</table>\n",
       "<p>6711 rows × 8 columns</p>\n",
       "</div>"
      ],
      "text/plain": [
       "             product          user_id        age  ... ratings repurchase  packaging\n",
       "0     Blush - Orgasm      Leahmoriah4      44-55  ...     5.0        65%        4.1\n",
       "1     Blush - Orgasm    Avalonian1172      30-35  ...     4.0        65%        4.1\n",
       "2     Blush - Orgasm  summerseabreeze      30-35  ...     5.0        65%        4.1\n",
       "3     Blush - Orgasm        miransees      30-35  ...     3.0        65%        4.1\n",
       "4     Blush - Orgasm     outofherhead  56 & Over  ...     2.0        65%        4.1\n",
       "...              ...              ...        ...  ...     ...        ...        ...\n",
       "6706  Blush - Torrid        Steph0891      25-29  ...     5.0        86%        4.2\n",
       "6707  Blush - Torrid       MissPurple      19-24  ...     5.0        86%        4.2\n",
       "6708  Blush - Torrid       CraxFactor      25-29  ...     1.0        86%        4.2\n",
       "6709  Blush - Torrid        gohgoomah      19-24  ...     4.0        86%        4.2\n",
       "6710  Blush - Torrid          lanae87      36-43  ...     3.0        86%        4.2\n",
       "\n",
       "[6711 rows x 8 columns]"
      ]
     },
     "execution_count": 3,
     "metadata": {
      "tags": []
     },
     "output_type": "execute_result"
    }
   ],
   "source": [
    "## drop data from more than 13 years ago\n",
    "print(df.date.value_counts())\n",
    "drop_years = ['14 years ago', '15 years ago', '16 years ago', '17 years ago', '18 years ago', '19 years ago', '20 years ago' ]\n",
    "reviews = df[~df['date'].isin(drop_years)].dropna().reset_index().drop(['index'], axis=1)\n",
    "reviews"
   ]
  },
  {
   "cell_type": "code",
   "execution_count": 4,
   "metadata": {
    "colab": {
     "base_uri": "https://localhost:8080/",
     "height": 202
    },
    "id": "bekPcaxQnVYc",
    "outputId": "b607db4b-d32d-4b94-9cdf-b33646efa09e"
   },
   "outputs": [
    {
     "data": {
      "text/html": [
       "<div>\n",
       "<style scoped>\n",
       "    .dataframe tbody tr th:only-of-type {\n",
       "        vertical-align: middle;\n",
       "    }\n",
       "\n",
       "    .dataframe tbody tr th {\n",
       "        vertical-align: top;\n",
       "    }\n",
       "\n",
       "    .dataframe thead th {\n",
       "        text-align: right;\n",
       "    }\n",
       "</style>\n",
       "<table border=\"1\" class=\"dataframe\">\n",
       "  <thead>\n",
       "    <tr style=\"text-align: right;\">\n",
       "      <th></th>\n",
       "      <th>product</th>\n",
       "      <th>user_id</th>\n",
       "      <th>age</th>\n",
       "      <th>date</th>\n",
       "      <th>review</th>\n",
       "      <th>repurchase</th>\n",
       "      <th>packaging</th>\n",
       "    </tr>\n",
       "  </thead>\n",
       "  <tbody>\n",
       "    <tr>\n",
       "      <th>0</th>\n",
       "      <td>Blush - Orgasm</td>\n",
       "      <td>Leahmoriah4</td>\n",
       "      <td>44-55</td>\n",
       "      <td>a month ago</td>\n",
       "      <td>I'm 48, Caucasian with olive undertones so tru...</td>\n",
       "      <td>1</td>\n",
       "      <td>4.1</td>\n",
       "    </tr>\n",
       "    <tr>\n",
       "      <th>1</th>\n",
       "      <td>Blush - Orgasm</td>\n",
       "      <td>Avalonian1172</td>\n",
       "      <td>30-35</td>\n",
       "      <td>2 months ago</td>\n",
       "      <td>I have to mention that the case is fabulous. A...</td>\n",
       "      <td>1</td>\n",
       "      <td>4.1</td>\n",
       "    </tr>\n",
       "    <tr>\n",
       "      <th>2</th>\n",
       "      <td>Blush - Orgasm</td>\n",
       "      <td>summerseabreeze</td>\n",
       "      <td>30-35</td>\n",
       "      <td>4 months ago</td>\n",
       "      <td>A coral-pink peach blush with a very fine gold...</td>\n",
       "      <td>1</td>\n",
       "      <td>4.1</td>\n",
       "    </tr>\n",
       "    <tr>\n",
       "      <th>3</th>\n",
       "      <td>Blush - Orgasm</td>\n",
       "      <td>miransees</td>\n",
       "      <td>30-35</td>\n",
       "      <td>5 months ago</td>\n",
       "      <td>I'm not sure if it's a \"Universal\" color. It's...</td>\n",
       "      <td>0</td>\n",
       "      <td>4.1</td>\n",
       "    </tr>\n",
       "    <tr>\n",
       "      <th>4</th>\n",
       "      <td>Blush - Orgasm</td>\n",
       "      <td>outofherhead</td>\n",
       "      <td>56 &amp; Over</td>\n",
       "      <td>6 months ago</td>\n",
       "      <td>The blush that works for everyone does not wor...</td>\n",
       "      <td>0</td>\n",
       "      <td>4.1</td>\n",
       "    </tr>\n",
       "  </tbody>\n",
       "</table>\n",
       "</div>"
      ],
      "text/plain": [
       "          product          user_id  ... repurchase packaging\n",
       "0  Blush - Orgasm      Leahmoriah4  ...          1       4.1\n",
       "1  Blush - Orgasm    Avalonian1172  ...          1       4.1\n",
       "2  Blush - Orgasm  summerseabreeze  ...          1       4.1\n",
       "3  Blush - Orgasm        miransees  ...          0       4.1\n",
       "4  Blush - Orgasm     outofherhead  ...          0       4.1\n",
       "\n",
       "[5 rows x 7 columns]"
      ]
     },
     "execution_count": 4,
     "metadata": {
      "tags": []
     },
     "output_type": "execute_result"
    }
   ],
   "source": [
    "# repurchase(1) if ratings 4/5 else won't repurchase(0)\n",
    "reviews['repurchase'] = reviews['ratings'].apply(lambda x: 0 if x < 4 else 1 )\n",
    "reviews.drop(['ratings'], axis=1, inplace=True)\n",
    "reviews.head()"
   ]
  },
  {
   "cell_type": "code",
   "execution_count": 5,
   "metadata": {
    "colab": {
     "base_uri": "https://localhost:8080/"
    },
    "id": "OtNGWnTmqlYR",
    "outputId": "ab8590eb-5c8a-448b-d160-2106a036d525"
   },
   "outputs": [
    {
     "data": {
      "text/plain": [
       "1    5078\n",
       "0    1633\n",
       "Name: repurchase, dtype: int64"
      ]
     },
     "execution_count": 5,
     "metadata": {
      "tags": []
     },
     "output_type": "execute_result"
    }
   ],
   "source": [
    "# need to account for imbalance??\n",
    "reviews.repurchase.value_counts()"
   ]
  },
  {
   "cell_type": "markdown",
   "metadata": {
    "id": "YS0jNrTOq4pQ"
   },
   "source": [
    "Text Preprocessing"
   ]
  },
  {
   "cell_type": "code",
   "execution_count": 6,
   "metadata": {
    "colab": {
     "base_uri": "https://localhost:8080/"
    },
    "id": "iVwpavy2uXZr",
    "outputId": "5796418d-f9de-4fa6-fc60-b9ae379b0f5e"
   },
   "outputs": [
    {
     "name": "stdout",
     "output_type": "stream",
     "text": [
      "[nltk_data] Downloading package stopwords to /root/nltk_data...\n",
      "[nltk_data]   Package stopwords is already up-to-date!\n",
      "[nltk_data] Downloading package wordnet to /root/nltk_data...\n",
      "[nltk_data]   Package wordnet is already up-to-date!\n"
     ]
    },
    {
     "data": {
      "text/plain": [
       "True"
      ]
     },
     "execution_count": 6,
     "metadata": {
      "tags": []
     },
     "output_type": "execute_result"
    }
   ],
   "source": [
    "import nltk\n",
    "nltk.download('stopwords')\n",
    "nltk.download('wordnet')"
   ]
  },
  {
   "cell_type": "code",
   "execution_count": 9,
   "metadata": {
    "colab": {
     "base_uri": "https://localhost:8080/",
     "height": 289
    },
    "id": "f75NIf3TqudS",
    "outputId": "fc131673-ddff-4d9e-8895-69cfdd7a255f"
   },
   "outputs": [
    {
     "data": {
      "text/html": [
       "<div>\n",
       "<style scoped>\n",
       "    .dataframe tbody tr th:only-of-type {\n",
       "        vertical-align: middle;\n",
       "    }\n",
       "\n",
       "    .dataframe tbody tr th {\n",
       "        vertical-align: top;\n",
       "    }\n",
       "\n",
       "    .dataframe thead th {\n",
       "        text-align: right;\n",
       "    }\n",
       "</style>\n",
       "<table border=\"1\" class=\"dataframe\">\n",
       "  <thead>\n",
       "    <tr style=\"text-align: right;\">\n",
       "      <th></th>\n",
       "      <th>product</th>\n",
       "      <th>user_id</th>\n",
       "      <th>age</th>\n",
       "      <th>date</th>\n",
       "      <th>review</th>\n",
       "      <th>repurchase</th>\n",
       "      <th>packaging</th>\n",
       "      <th>review_processed</th>\n",
       "    </tr>\n",
       "  </thead>\n",
       "  <tbody>\n",
       "    <tr>\n",
       "      <th>0</th>\n",
       "      <td>Blush - Orgasm</td>\n",
       "      <td>Leahmoriah4</td>\n",
       "      <td>44-55</td>\n",
       "      <td>a month ago</td>\n",
       "      <td>I'm 48, Caucasian with olive undertones so tru...</td>\n",
       "      <td>1</td>\n",
       "      <td>4.1</td>\n",
       "      <td>im caucasian olive undertone true pink mauve l...</td>\n",
       "    </tr>\n",
       "    <tr>\n",
       "      <th>1</th>\n",
       "      <td>Blush - Orgasm</td>\n",
       "      <td>Avalonian1172</td>\n",
       "      <td>30-35</td>\n",
       "      <td>2 months ago</td>\n",
       "      <td>I have to mention that the case is fabulous. A...</td>\n",
       "      <td>1</td>\n",
       "      <td>4.1</td>\n",
       "      <td>mention case fabulous blush great case break t...</td>\n",
       "    </tr>\n",
       "    <tr>\n",
       "      <th>2</th>\n",
       "      <td>Blush - Orgasm</td>\n",
       "      <td>summerseabreeze</td>\n",
       "      <td>30-35</td>\n",
       "      <td>4 months ago</td>\n",
       "      <td>A coral-pink peach blush with a very fine gold...</td>\n",
       "      <td>1</td>\n",
       "      <td>4.1</td>\n",
       "      <td>coralpink peach blush fine gold shimmer medium...</td>\n",
       "    </tr>\n",
       "    <tr>\n",
       "      <th>3</th>\n",
       "      <td>Blush - Orgasm</td>\n",
       "      <td>miransees</td>\n",
       "      <td>30-35</td>\n",
       "      <td>5 months ago</td>\n",
       "      <td>I'm not sure if it's a \"Universal\" color. It's...</td>\n",
       "      <td>0</td>\n",
       "      <td>4.1</td>\n",
       "      <td>im sure universal color probably light make sk...</td>\n",
       "    </tr>\n",
       "    <tr>\n",
       "      <th>4</th>\n",
       "      <td>Blush - Orgasm</td>\n",
       "      <td>outofherhead</td>\n",
       "      <td>56 &amp; Over</td>\n",
       "      <td>6 months ago</td>\n",
       "      <td>The blush that works for everyone does not wor...</td>\n",
       "      <td>0</td>\n",
       "      <td>4.1</td>\n",
       "      <td>blush work everyone work got mini size dont kn...</td>\n",
       "    </tr>\n",
       "  </tbody>\n",
       "</table>\n",
       "</div>"
      ],
      "text/plain": [
       "          product  ...                                   review_processed\n",
       "0  Blush - Orgasm  ...  im caucasian olive undertone true pink mauve l...\n",
       "1  Blush - Orgasm  ...  mention case fabulous blush great case break t...\n",
       "2  Blush - Orgasm  ...  coralpink peach blush fine gold shimmer medium...\n",
       "3  Blush - Orgasm  ...  im sure universal color probably light make sk...\n",
       "4  Blush - Orgasm  ...  blush work everyone work got mini size dont kn...\n",
       "\n",
       "[5 rows x 8 columns]"
      ]
     },
     "execution_count": 9,
     "metadata": {
      "tags": []
     },
     "output_type": "execute_result"
    }
   ],
   "source": [
    "# mentioned in proposal \"by converting them to lowercase, removing any links, stopwords, symbols or digits, followed by stemming or lemmatizing\"\n",
    "# common words removal? spelling correction? contraction expansion? check if legit word?\n",
    "\n",
    "## convert to lowercase\n",
    "reviews['review_processed'] = reviews['review'].apply(lambda x: \" \".join(x.lower() for x in x.split()))\n",
    "\n",
    "## removing punctuations\n",
    "reviews['review_processed'] = reviews['review_processed'].str.replace('[^\\w\\s]','')\n",
    "\n",
    "## removing digits\n",
    "import re\n",
    "reviews['review_processed'] = reviews['review_processed'].apply(lambda x: re.sub(r'\\d+', '', x))\n",
    "\n",
    "## remove website links \n",
    "reviews['review_processed'] = reviews['review_processed'].apply(lambda x: re.sub(r'http\\S+', '', x))\n",
    "\n",
    "## remove leading and ending whitespace (if any)\n",
    "reviews['review_processed'] = reviews['review_processed'].apply(lambda x: x.strip())\n",
    "\n",
    "## removing stopwords\n",
    "from nltk.corpus import stopwords\n",
    "stop = stopwords.words('english')\n",
    "reviews['review_processed'] = reviews['review_processed'].apply(lambda x: \" \".join(x for x in x.split() if x not in stop))\n",
    "\n",
    "## top 10 common words - remove??\n",
    "## pd.Series(' '.join(reviews['review_processed']).split()).value_counts()[:10]\n",
    "\n",
    "## stemming\n",
    "# from nltk.stem import PorterStemmer\n",
    "# st = PorterStemmer()\n",
    "# reviews['review_processed'] = reviews['review_processed'].apply(lambda x: \" \".join([st.stem(word) for word in x.split()]))\n",
    "\n",
    "## lemmatization\n",
    "from textblob import Word\n",
    "reviews['review_processed'] = reviews['review_processed'].apply(lambda x: \" \".join([Word(word).lemmatize() for word in x.split()]))\n",
    "\n",
    "reviews.head()"
   ]
  },
  {
   "cell_type": "code",
   "execution_count": 11,
   "metadata": {
    "colab": {
     "base_uri": "https://localhost:8080/",
     "height": 35
    },
    "id": "3qMlSTSo1677",
    "outputId": "1da84134-87d1-4a7d-f53d-8f75d9de6e9b"
   },
   "outputs": [
    {
     "data": {
      "application/vnd.google.colaboratory.intrinsic+json": {
       "type": "string"
      },
      "text/plain": [
       "'im caucasian olive undertone true pink mauve look terrible coral perfect love blush love shimmer cheek bone temple use'"
      ]
     },
     "execution_count": 11,
     "metadata": {
      "tags": []
     },
     "output_type": "execute_result"
    }
   ],
   "source": [
    "pd.set_option('display.max_colwidth', 500)\n",
    "reviews['review_processed'][0]\n",
    "# pd.reset_option('display.max_colwidth')"
   ]
  },
  {
   "cell_type": "markdown",
   "metadata": {
    "id": "5vY9lw2U7-mw"
   },
   "source": [
    "Text Vectorization\n",
    "- Bag-of-Words\n",
    "- TF-IDF\n",
    "- Word embeddings"
   ]
  }
 ],
 "metadata": {
  "colab": {
   "collapsed_sections": [],
   "name": "BT4222 Project.ipynb",
   "provenance": []
  },
  "kernelspec": {
   "display_name": "Python 3",
   "language": "python",
   "name": "python3"
  },
  "language_info": {
   "codemirror_mode": {
    "name": "ipython",
    "version": 3
   },
   "file_extension": ".py",
   "mimetype": "text/x-python",
   "name": "python",
   "nbconvert_exporter": "python",
   "pygments_lexer": "ipython3",
   "version": "3.7.6"
  }
 },
 "nbformat": 4,
 "nbformat_minor": 1
}
