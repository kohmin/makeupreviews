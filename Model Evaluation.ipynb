{
 "cells": [
  {
   "cell_type": "code",
   "execution_count": 1,
   "metadata": {},
   "outputs": [],
   "source": [
    "import joblib\n",
    "import pandas as pd\n",
    "\n",
    "from sklearn.metrics import accuracy_score, precision_score, recall_score, f1_score, roc_auc_score, confusion_matrix, classification_report\n",
    "from sklearn.preprocessing import FunctionTransformer"
   ]
  },
  {
   "cell_type": "code",
   "execution_count": 2,
   "metadata": {},
   "outputs": [],
   "source": [
    "# Import data\n",
    "X_train = pd.read_csv('data/X_train.csv')\n",
    "X_test = pd.read_csv('data/X_test.csv')\n",
    "y_train = pd.read_csv('data/y_train.csv')\n",
    "y_test = pd.read_csv('data/y_test.csv')"
   ]
  },
  {
   "cell_type": "code",
   "execution_count": 3,
   "metadata": {},
   "outputs": [],
   "source": [
    "# Create Function Transformer to use Feature Union\n",
    "def get_numeric_data(x):\n",
    "    return x.drop(['review','review_processed','review_processed_stop'],axis=1)\n",
    "\n",
    "def get_text_data(x):\n",
    "    return x['review_processed']\n",
    "\n",
    "transformer_numeric = FunctionTransformer(get_numeric_data)\n",
    "transformer_text = FunctionTransformer(get_text_data)"
   ]
  },
  {
   "cell_type": "code",
   "execution_count": 4,
   "metadata": {},
   "outputs": [],
   "source": [
    "# Function to return metrics\n",
    "def model_metrics(y_pred, y_pred_proba):\n",
    "    print('Accuracy:', accuracy_score(y_test, y_pred))\n",
    "    print('Precision:', precision_score(y_test, y_pred))\n",
    "    print('Recall:', recall_score(y_test, y_pred))\n",
    "    print('F1:', f1_score(y_test, y_pred, average='macro'))\n",
    "    print('ROC_AUC:', roc_auc_score(y_test, y_pred_proba))\n",
    "\n",
    "    print('\\nConfusion Matrix:')\n",
    "    print(confusion_matrix(y_test, y_pred))\n",
    "\n",
    "    print('\\nClassification Report:')\n",
    "    print(classification_report(y_test, y_pred))"
   ]
  },
  {
   "cell_type": "markdown",
   "metadata": {},
   "source": [
    "# Logistic Regression"
   ]
  },
  {
   "cell_type": "code",
   "execution_count": 5,
   "metadata": {},
   "outputs": [],
   "source": [
    "# Load file\n",
    "logreg = joblib.load('models/logreg.pkl')"
   ]
  },
  {
   "cell_type": "code",
   "execution_count": 6,
   "metadata": {},
   "outputs": [],
   "source": [
    "# Model prediction\n",
    "y_pred_logreg = logreg.predict(X_test)\n",
    "y_pred_logreg_proba = logreg.predict_proba(X_test)[:, 1]"
   ]
  },
  {
   "cell_type": "code",
   "execution_count": 7,
   "metadata": {},
   "outputs": [
    {
     "name": "stdout",
     "output_type": "stream",
     "text": [
      "Accuracy: 0.8604651162790697\n",
      "Precision: 0.880354505169867\n",
      "Recall: 0.9430379746835443\n",
      "F1: 0.7963420051815193\n",
      "ROC_AUC: 0.9095534373371748\n",
      "\n",
      "Confusion Matrix:\n",
      "[[ 251  162]\n",
      " [  72 1192]]\n",
      "\n",
      "Classification Report:\n",
      "              precision    recall  f1-score   support\n",
      "\n",
      "           0       0.78      0.61      0.68       413\n",
      "           1       0.88      0.94      0.91      1264\n",
      "\n",
      "    accuracy                           0.86      1677\n",
      "   macro avg       0.83      0.78      0.80      1677\n",
      "weighted avg       0.85      0.86      0.85      1677\n",
      "\n"
     ]
    }
   ],
   "source": [
    "# Evaluation\n",
    "model_metrics(y_pred_logreg, y_pred_logreg_proba)"
   ]
  },
  {
   "cell_type": "markdown",
   "metadata": {},
   "source": [
    "# SVM"
   ]
  },
  {
   "cell_type": "code",
   "execution_count": 8,
   "metadata": {},
   "outputs": [],
   "source": [
    "# Load file\n",
    "svm = joblib.load('models/svm.pkl')"
   ]
  },
  {
   "cell_type": "code",
   "execution_count": 9,
   "metadata": {},
   "outputs": [],
   "source": [
    "# Model prediction\n",
    "y_pred_svm = svm.predict(X_test)\n",
    "y_pred_svm_proba = svm.predict_proba(X_test)[:, 1]"
   ]
  },
  {
   "cell_type": "code",
   "execution_count": 10,
   "metadata": {},
   "outputs": [
    {
     "name": "stdout",
     "output_type": "stream",
     "text": [
      "Accuracy: 0.8425760286225402\n",
      "Precision: 0.8654970760233918\n",
      "Recall: 0.9367088607594937\n",
      "F1: 0.7670225395515665\n",
      "ROC_AUC: 0.8754712354798173\n",
      "\n",
      "Confusion Matrix:\n",
      "[[ 229  184]\n",
      " [  80 1184]]\n",
      "\n",
      "Classification Report:\n",
      "              precision    recall  f1-score   support\n",
      "\n",
      "           0       0.74      0.55      0.63       413\n",
      "           1       0.87      0.94      0.90      1264\n",
      "\n",
      "    accuracy                           0.84      1677\n",
      "   macro avg       0.80      0.75      0.77      1677\n",
      "weighted avg       0.83      0.84      0.83      1677\n",
      "\n"
     ]
    }
   ],
   "source": [
    "# Evaluation\n",
    "model_metrics(y_pred_svm, y_pred_svm_proba)"
   ]
  },
  {
   "cell_type": "markdown",
   "metadata": {},
   "source": [
    "# Naive Bayes"
   ]
  },
  {
   "cell_type": "code",
   "execution_count": 11,
   "metadata": {},
   "outputs": [],
   "source": [
    "# Load file\n",
    "nb = joblib.load('models/nb.pkl')"
   ]
  },
  {
   "cell_type": "code",
   "execution_count": 12,
   "metadata": {},
   "outputs": [],
   "source": [
    "# Model prediction\n",
    "y_pred_nb = nb.predict(X_test)\n",
    "y_pred_nb_proba = nb.predict_proba(X_test)[:, 1]"
   ]
  },
  {
   "cell_type": "code",
   "execution_count": 13,
   "metadata": {},
   "outputs": [
    {
     "name": "stdout",
     "output_type": "stream",
     "text": [
      "Accuracy: 0.8258795468097794\n",
      "Precision: 0.824\n",
      "Recall: 0.9778481012658228\n",
      "F1: 0.6997203757757119\n",
      "ROC_AUC: 0.8625927146228584\n",
      "\n",
      "Confusion Matrix:\n",
      "[[ 149  264]\n",
      " [  28 1236]]\n",
      "\n",
      "Classification Report:\n",
      "              precision    recall  f1-score   support\n",
      "\n",
      "           0       0.84      0.36      0.51       413\n",
      "           1       0.82      0.98      0.89      1264\n",
      "\n",
      "    accuracy                           0.83      1677\n",
      "   macro avg       0.83      0.67      0.70      1677\n",
      "weighted avg       0.83      0.83      0.80      1677\n",
      "\n"
     ]
    }
   ],
   "source": [
    "# Evaluation\n",
    "model_metrics(y_pred_nb, y_pred_nb_proba)"
   ]
  },
  {
   "cell_type": "markdown",
   "metadata": {},
   "source": [
    "# Stacking"
   ]
  },
  {
   "cell_type": "code",
   "execution_count": 14,
   "metadata": {},
   "outputs": [],
   "source": [
    "# Predictions for train datasets and convert to dataframe\n",
    "y_pred_logreg_train = pd.DataFrame(logreg.predict(X_train))\n",
    "y_pred_svm_train = pd.DataFrame(svm.predict(X_train))\n",
    "y_pred_nb_train = pd.DataFrame(nb.predict(X_train))\n",
    "\n",
    "# Convert test datasets into dataframe\n",
    "y_pred_logreg = pd.DataFrame(y_pred_logreg)\n",
    "y_pred_svm = pd.DataFrame(y_pred_svm)\n",
    "y_pred_nb = pd.DataFrame(y_pred_nb)"
   ]
  },
  {
   "cell_type": "code",
   "execution_count": 15,
   "metadata": {},
   "outputs": [],
   "source": [
    "# Concatenate the predictions for both train and test datasets for all 3 models\n",
    "df_train = pd.concat([y_pred_logreg_train, y_pred_svm_train, y_pred_nb_train],axis=1)\n",
    "df_test = pd.concat([y_pred_logreg, y_pred_svm, y_pred_nb], axis=1)"
   ]
  },
  {
   "cell_type": "code",
   "execution_count": 16,
   "metadata": {},
   "outputs": [],
   "source": [
    "# Load file\n",
    "stack_model = joblib.load('models/stack_model.pkl')"
   ]
  },
  {
   "cell_type": "code",
   "execution_count": 17,
   "metadata": {},
   "outputs": [],
   "source": [
    "# Model prediction\n",
    "y_pred_stack = stack_model.predict(df_test)\n",
    "y_pred_stack_proba = stack_model.predict_proba(df_test)[:, 1]"
   ]
  },
  {
   "cell_type": "code",
   "execution_count": 18,
   "metadata": {},
   "outputs": [
    {
     "name": "stdout",
     "output_type": "stream",
     "text": [
      "Accuracy: 0.8425760286225402\n",
      "Precision: 0.8654970760233918\n",
      "Recall: 0.9367088607594937\n",
      "F1: 0.7670225395515665\n",
      "ROC_AUC: 0.7455941398228462\n",
      "\n",
      "Confusion Matrix:\n",
      "[[ 229  184]\n",
      " [  80 1184]]\n",
      "\n",
      "Classification Report:\n",
      "              precision    recall  f1-score   support\n",
      "\n",
      "           0       0.74      0.55      0.63       413\n",
      "           1       0.87      0.94      0.90      1264\n",
      "\n",
      "    accuracy                           0.84      1677\n",
      "   macro avg       0.80      0.75      0.77      1677\n",
      "weighted avg       0.83      0.84      0.83      1677\n",
      "\n"
     ]
    }
   ],
   "source": [
    "# Evaluation\n",
    "model_metrics(y_pred_stack, y_pred_stack_proba)"
   ]
  },
  {
   "cell_type": "markdown",
   "metadata": {},
   "source": [
    "# Bagging (Logistic Regression)"
   ]
  },
  {
   "cell_type": "code",
   "execution_count": 19,
   "metadata": {},
   "outputs": [],
   "source": [
    "# Load file\n",
    "logreg_bagging = joblib.load('models/logreg_bagging.pkl')\n",
    "X_test_combined = pd.read_csv('data/X_test_vectorized_logreg.csv')"
   ]
  },
  {
   "cell_type": "code",
   "execution_count": 20,
   "metadata": {},
   "outputs": [],
   "source": [
    "# Model prediction\n",
    "y_pred_logreg_bagging = logreg_bagging.predict(X_test_combined)\n",
    "y_pred_logreg_bagging_proba = logreg_bagging.predict_proba(X_test_combined)[:, 1]"
   ]
  },
  {
   "cell_type": "code",
   "execution_count": 21,
   "metadata": {},
   "outputs": [
    {
     "name": "stdout",
     "output_type": "stream",
     "text": [
      "Accuracy: 0.8598688133571855\n",
      "Precision: 0.8646350106307583\n",
      "Recall: 0.9651898734177216\n",
      "F1: 0.7830261654714878\n",
      "ROC_AUC: 0.9191486345664633\n",
      "\n",
      "Confusion Matrix:\n",
      "[[ 222  191]\n",
      " [  44 1220]]\n",
      "\n",
      "Classification Report:\n",
      "              precision    recall  f1-score   support\n",
      "\n",
      "           0       0.83      0.54      0.65       413\n",
      "           1       0.86      0.97      0.91      1264\n",
      "\n",
      "    accuracy                           0.86      1677\n",
      "   macro avg       0.85      0.75      0.78      1677\n",
      "weighted avg       0.86      0.86      0.85      1677\n",
      "\n"
     ]
    }
   ],
   "source": [
    "# Evaluation\n",
    "model_metrics(y_pred_logreg_bagging, y_pred_logreg_bagging_proba)"
   ]
  },
  {
   "cell_type": "markdown",
   "metadata": {},
   "source": [
    "# Bagging (SVM)"
   ]
  },
  {
   "cell_type": "code",
   "execution_count": null,
   "metadata": {},
   "outputs": [],
   "source": [
    "import zipfile\n",
    "with zipfile.ZipFile('models/svm_bagging.pkl.zip', 'r') as zip_ref:\n",
    "    zip_ref.extractall('models/')"
   ]
  },
  {
   "cell_type": "code",
   "execution_count": 23,
   "metadata": {},
   "outputs": [],
   "source": [
    "# Load file\n",
    "svm_bagging = joblib.load('models/svm_bagging.pkl')\n",
    "X_test_combined = pd.read_csv('data/X_test_vectorized_svm.csv')"
   ]
  },
  {
   "cell_type": "code",
   "execution_count": 24,
   "metadata": {},
   "outputs": [],
   "source": [
    "# Model prediction\n",
    "y_pred_svm_bagging = svm_bagging.predict(X_test_combined)\n",
    "y_pred_svm_bagging_proba = svm_bagging.predict_proba(X_test_combined)[:, 1]"
   ]
  },
  {
   "cell_type": "code",
   "execution_count": 25,
   "metadata": {},
   "outputs": [
    {
     "name": "stdout",
     "output_type": "stream",
     "text": [
      "Accuracy: 0.83840190816935\n",
      "Precision: 0.8384458077709611\n",
      "Recall: 0.9731012658227848\n",
      "F1: 0.7328884873925379\n",
      "ROC_AUC: 0.9056341373708892\n",
      "\n",
      "Confusion Matrix:\n",
      "[[ 176  237]\n",
      " [  34 1230]]\n",
      "\n",
      "Classification Report:\n",
      "              precision    recall  f1-score   support\n",
      "\n",
      "           0       0.84      0.43      0.57       413\n",
      "           1       0.84      0.97      0.90      1264\n",
      "\n",
      "    accuracy                           0.84      1677\n",
      "   macro avg       0.84      0.70      0.73      1677\n",
      "weighted avg       0.84      0.84      0.82      1677\n",
      "\n"
     ]
    }
   ],
   "source": [
    "# Evaluation\n",
    "model_metrics(y_pred_svm_bagging, y_pred_svm_bagging_proba)"
   ]
  },
  {
   "cell_type": "markdown",
   "metadata": {},
   "source": [
    "# Bagging (Naive Bayes)"
   ]
  },
  {
   "cell_type": "code",
   "execution_count": 26,
   "metadata": {},
   "outputs": [],
   "source": [
    "# Load file\n",
    "nb_bagging = joblib.load('models/nb_bagging.pkl')\n",
    "X_test_combined = pd.read_csv('data/X_test_vectorized_nb.csv')"
   ]
  },
  {
   "cell_type": "code",
   "execution_count": 27,
   "metadata": {},
   "outputs": [],
   "source": [
    "# Model prediction\n",
    "y_pred_nb_bagging = nb_bagging.predict(X_test_combined)\n",
    "y_pred_nb_bagging_proba = nb_bagging.predict_proba(X_test_combined)[:, 1]"
   ]
  },
  {
   "cell_type": "code",
   "execution_count": 28,
   "metadata": {},
   "outputs": [
    {
     "name": "stdout",
     "output_type": "stream",
     "text": [
      "Accuracy: 0.789505068574836\n",
      "Precision: 0.784154709918902\n",
      "Recall: 0.9944620253164557\n",
      "F1: 0.5760143930544345\n",
      "ROC_AUC: 0.8963530971281455\n",
      "\n",
      "Confusion Matrix:\n",
      "[[  67  346]\n",
      " [   7 1257]]\n",
      "\n",
      "Classification Report:\n",
      "              precision    recall  f1-score   support\n",
      "\n",
      "           0       0.91      0.16      0.28       413\n",
      "           1       0.78      0.99      0.88      1264\n",
      "\n",
      "    accuracy                           0.79      1677\n",
      "   macro avg       0.84      0.58      0.58      1677\n",
      "weighted avg       0.81      0.79      0.73      1677\n",
      "\n"
     ]
    }
   ],
   "source": [
    "# Evaluation\n",
    "model_metrics(y_pred_nb_bagging, y_pred_nb_bagging_proba)"
   ]
  },
  {
   "cell_type": "markdown",
   "metadata": {},
   "source": [
    "# Boosting (keep / remove depending on Model Building notebook)"
   ]
  },
  {
   "cell_type": "code",
   "execution_count": 31,
   "metadata": {},
   "outputs": [],
   "source": [
    "from sklearn.ensemble import RandomForestClassifier, BaggingClassifier, AdaBoostClassifier, GradientBoostingClassifier"
   ]
  },
  {
   "cell_type": "code",
   "execution_count": 32,
   "metadata": {},
   "outputs": [],
   "source": [
    "# Import files\n",
    "X_train_combined = pd.read_csv('data/X_train_vectorized.csv')\n",
    "X_test_combined = pd.read_csv('data/X_test_vectorized.csv')"
   ]
  },
  {
   "cell_type": "code",
   "execution_count": 33,
   "metadata": {},
   "outputs": [
    {
     "name": "stderr",
     "output_type": "stream",
     "text": [
      "/opt/anaconda3/lib/python3.7/site-packages/ipykernel_launcher.py:3: DataConversionWarning: A column-vector y was passed when a 1d array was expected. Please change the shape of y to (n_samples,), for example using ravel().\n",
      "  This is separate from the ipykernel package so we can avoid doing imports until\n"
     ]
    },
    {
     "name": "stdout",
     "output_type": "stream",
     "text": [
      "Accuracy: 1.0\n",
      "Precision: 1.0\n",
      "Recall: 1.0\n",
      "F1: 1.0\n",
      "ROC_AUC: 0.6667340316302449\n",
      "\n",
      "Confusion Matrix:\n",
      "[[ 413    0]\n",
      " [   0 1264]]\n",
      "\n",
      "Classification Report:\n",
      "              precision    recall  f1-score   support\n",
      "\n",
      "           0       1.00      1.00      1.00       413\n",
      "           1       1.00      1.00      1.00      1264\n",
      "\n",
      "    accuracy                           1.00      1677\n",
      "   macro avg       1.00      1.00      1.00      1677\n",
      "weighted avg       1.00      1.00      1.00      1677\n",
      "\n"
     ]
    }
   ],
   "source": [
    "# RandomForest\n",
    "clf = RandomForestClassifier(n_estimators=100, max_features=\"auto\",random_state=0)\n",
    "clf.fit(X_train_combined, y_train)\n",
    "y_pred = clf.predict(X_test_combined)\n",
    "model_metrics(y_test, y_pred)"
   ]
  },
  {
   "cell_type": "code",
   "execution_count": 34,
   "metadata": {},
   "outputs": [
    {
     "name": "stderr",
     "output_type": "stream",
     "text": [
      "/opt/anaconda3/lib/python3.7/site-packages/sklearn/utils/validation.py:63: DataConversionWarning: A column-vector y was passed when a 1d array was expected. Please change the shape of y to (n_samples, ), for example using ravel().\n",
      "  return f(*args, **kwargs)\n"
     ]
    },
    {
     "name": "stdout",
     "output_type": "stream",
     "text": [
      "Accuracy: 1.0\n",
      "Precision: 1.0\n",
      "Recall: 1.0\n",
      "F1: 1.0\n",
      "ROC_AUC: 0.7165020535139609\n",
      "\n",
      "Confusion Matrix:\n",
      "[[ 413    0]\n",
      " [   0 1264]]\n",
      "\n",
      "Classification Report:\n",
      "              precision    recall  f1-score   support\n",
      "\n",
      "           0       1.00      1.00      1.00       413\n",
      "           1       1.00      1.00      1.00      1264\n",
      "\n",
      "    accuracy                           1.00      1677\n",
      "   macro avg       1.00      1.00      1.00      1677\n",
      "weighted avg       1.00      1.00      1.00      1677\n",
      "\n"
     ]
    }
   ],
   "source": [
    "# AdaBoost\n",
    "clf = AdaBoostClassifier(n_estimators=100)\n",
    "clf.fit(X_train_combined, y_train)\n",
    "y_pred = clf.predict(X_test_combined)\n",
    "model_metrics(y_test, y_pred)"
   ]
  },
  {
   "cell_type": "code",
   "execution_count": 35,
   "metadata": {},
   "outputs": [
    {
     "name": "stderr",
     "output_type": "stream",
     "text": [
      "/opt/anaconda3/lib/python3.7/site-packages/sklearn/utils/validation.py:63: DataConversionWarning: A column-vector y was passed when a 1d array was expected. Please change the shape of y to (n_samples, ), for example using ravel().\n",
      "  return f(*args, **kwargs)\n"
     ]
    },
    {
     "name": "stdout",
     "output_type": "stream",
     "text": [
      "Accuracy: 1.0\n",
      "Precision: 1.0\n",
      "Recall: 1.0\n",
      "F1: 1.0\n",
      "ROC_AUC: 0.6813097664510988\n",
      "\n",
      "Confusion Matrix:\n",
      "[[ 413    0]\n",
      " [   0 1264]]\n",
      "\n",
      "Classification Report:\n",
      "              precision    recall  f1-score   support\n",
      "\n",
      "           0       1.00      1.00      1.00       413\n",
      "           1       1.00      1.00      1.00      1264\n",
      "\n",
      "    accuracy                           1.00      1677\n",
      "   macro avg       1.00      1.00      1.00      1677\n",
      "weighted avg       1.00      1.00      1.00      1677\n",
      "\n"
     ]
    }
   ],
   "source": [
    "# GradientBoosting\n",
    "clf = GradientBoostingClassifier(n_estimators=100)\n",
    "clf.fit(X_train_combined, y_train)\n",
    "y_pred = clf.predict(X_test_combined)\n",
    "model_metrics(y_test, y_pred)"
   ]
  }
 ],
 "metadata": {
  "kernelspec": {
   "display_name": "Python 3",
   "language": "python",
   "name": "python3"
  },
  "language_info": {
   "codemirror_mode": {
    "name": "ipython",
    "version": 3
   },
   "file_extension": ".py",
   "mimetype": "text/x-python",
   "name": "python",
   "nbconvert_exporter": "python",
   "pygments_lexer": "ipython3",
   "version": "3.7.6"
  }
 },
 "nbformat": 4,
 "nbformat_minor": 4
}
