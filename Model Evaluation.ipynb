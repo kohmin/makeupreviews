{
 "cells": [
  {
   "cell_type": "code",
   "execution_count": 1,
   "metadata": {},
   "outputs": [],
   "source": [
    "import joblib\n",
    "import pandas as pd\n",
    "import matplotlib.pyplot as plt\n",
    "import numpy as np\n",
    "import seaborn as sns\n",
    "\n",
    "from sklearn.metrics import accuracy_score, precision_score, recall_score, f1_score, roc_auc_score, confusion_matrix, classification_report, plot_roc_curve\n",
    "from sklearn.preprocessing import FunctionTransformer"
   ]
  },
  {
   "cell_type": "code",
   "execution_count": 2,
   "metadata": {},
   "outputs": [],
   "source": [
    "# Import data\n",
    "X_train = pd.read_csv('data/X_train.csv')\n",
    "X_test = pd.read_csv('data/X_test.csv')\n",
    "y_train = pd.read_csv('data/y_train.csv')\n",
    "y_test = pd.read_csv('data/y_test.csv')"
   ]
  },
  {
   "cell_type": "code",
   "execution_count": 3,
   "metadata": {},
   "outputs": [],
   "source": [
    "# Create Function Transformer to use Feature Union\n",
    "def get_numeric_data(x):\n",
    "    return x.drop(['review','review_processed','review_processed_stop'],axis=1)\n",
    "\n",
    "def get_text_data(x):\n",
    "    return x['review_processed']\n",
    "\n",
    "transformer_numeric = FunctionTransformer(get_numeric_data)\n",
    "transformer_text = FunctionTransformer(get_text_data)"
   ]
  },
  {
   "cell_type": "code",
   "execution_count": 4,
   "metadata": {},
   "outputs": [],
   "source": [
    "# Function to return metrics for test\n",
    "def model_metrics(y_pred, y_pred_proba):\n",
    "    print('Accuracy:', accuracy_score(y_test, y_pred))\n",
    "    print('Precision:', precision_score(y_test, y_pred))\n",
    "    print('Recall:', recall_score(y_test, y_pred))\n",
    "    print('F1:', f1_score(y_test, y_pred, average='macro'))\n",
    "    print('ROC_AUC:', roc_auc_score(y_test, y_pred_proba))\n",
    "\n",
    "    print('\\nConfusion Matrix:')\n",
    "    print(confusion_matrix(y_test, y_pred))\n",
    "\n",
    "    print('\\nClassification Report:')\n",
    "    print(classification_report(y_test, y_pred))"
   ]
  },
  {
   "cell_type": "code",
   "execution_count": 5,
   "metadata": {},
   "outputs": [],
   "source": [
    "# Function to return metrics for train\n",
    "def model_metrics_train(y_pred, y_pred_proba):\n",
    "    print('Accuracy:', accuracy_score(y_train, y_pred))\n",
    "    print('Precision:', precision_score(y_train, y_pred))\n",
    "    print('Recall:', recall_score(y_train, y_pred))\n",
    "    print('F1:', f1_score(y_train, y_pred, average='macro'))\n",
    "    print('ROC_AUC:', roc_auc_score(y_train, y_pred_proba))\n",
    "\n",
    "    print('\\nConfusion Matrix:')\n",
    "    print(confusion_matrix(y_train, y_pred))\n",
    "\n",
    "    print('\\nClassification Report:')\n",
    "    print(classification_report(y_train, y_pred))"
   ]
  },
  {
   "cell_type": "code",
   "execution_count": 6,
   "metadata": {},
   "outputs": [],
   "source": [
    "# Function to return a feature importance graph\n",
    "def plot_feature_importance(importance,names,model_type):\n",
    "    #Create arrays from feature importance and feature names\n",
    "    feature_importance = np.array(importance)\n",
    "    feature_names = np.array(names)\n",
    "\n",
    "    #Create a DataFrame using a Dictionary\n",
    "    data={'feature_names':feature_names,'feature_importance':feature_importance}\n",
    "    fi_df = pd.DataFrame(data)\n",
    "\n",
    "    #Sort the DataFrame in order decreasing feature importance\n",
    "    fi_df = fi_df.sort_values(by=['feature_importance'], ascending=False).head(40)\n",
    "\n",
    "    #Define size of bar plot\n",
    "    plt.figure(figsize=(10,8))\n",
    "    #Plot Searborn bar chart\n",
    "    sns.barplot(x=fi_df['feature_importance'], y=fi_df['feature_names'])\n",
    "    #Add chart labels\n",
    "    plt.title(model_type + 'FEATURE IMPORTANCE')\n",
    "    plt.xlabel('FEATURE IMPORTANCE')\n",
    "    plt.ylabel('FEATURE NAMES')"
   ]
  },
  {
   "cell_type": "markdown",
   "metadata": {},
   "source": [
    "# Logistic Regression"
   ]
  },
  {
   "cell_type": "code",
   "execution_count": 7,
   "metadata": {},
   "outputs": [],
   "source": [
    "# Load file\n",
    "logreg = joblib.load('models/logreg.pkl')"
   ]
  },
  {
   "cell_type": "code",
   "execution_count": 8,
   "metadata": {},
   "outputs": [],
   "source": [
    "# Model prediction\n",
    "y_pred_logreg = logreg.predict(X_test)\n",
    "y_pred_logreg_proba = logreg.predict_proba(X_test)[:, 1]\n",
    "\n",
    "y_pred_logreg_train = logreg.predict(X_train)\n",
    "y_pred_logreg_proba_train = logreg.predict_proba(X_train)[:, 1]"
   ]
  },
  {
   "cell_type": "code",
   "execution_count": 9,
   "metadata": {},
   "outputs": [
    {
     "name": "stdout",
     "output_type": "stream",
     "text": [
      "Accuracy: 0.8574836016696482\n",
      "Precision: 0.8793486306439674\n",
      "Recall: 0.939873417721519\n",
      "F1: 0.7925970964845781\n",
      "ROC_AUC: 0.9077566126214486\n",
      "\n",
      "Confusion Matrix:\n",
      "[[ 250  163]\n",
      " [  76 1188]]\n",
      "\n",
      "Classification Report:\n",
      "              precision    recall  f1-score   support\n",
      "\n",
      "           0       0.77      0.61      0.68       413\n",
      "           1       0.88      0.94      0.91      1264\n",
      "\n",
      "    accuracy                           0.86      1677\n",
      "   macro avg       0.82      0.77      0.79      1677\n",
      "weighted avg       0.85      0.86      0.85      1677\n",
      "\n"
     ]
    }
   ],
   "source": [
    "# Evaluation on test\n",
    "model_metrics(y_pred_logreg, y_pred_logreg_proba)"
   ]
  },
  {
   "cell_type": "code",
   "execution_count": 10,
   "metadata": {},
   "outputs": [
    {
     "name": "stdout",
     "output_type": "stream",
     "text": [
      "Accuracy: 0.8944124080334063\n",
      "Precision: 0.9067460317460317\n",
      "Recall: 0.9593282602991341\n",
      "F1: 0.8462835977733448\n",
      "ROC_AUC: 0.9416032321958\n",
      "\n",
      "Confusion Matrix:\n",
      "[[ 842  376]\n",
      " [ 155 3656]]\n",
      "\n",
      "Classification Report:\n",
      "              precision    recall  f1-score   support\n",
      "\n",
      "           0       0.84      0.69      0.76      1218\n",
      "           1       0.91      0.96      0.93      3811\n",
      "\n",
      "    accuracy                           0.89      5029\n",
      "   macro avg       0.88      0.83      0.85      5029\n",
      "weighted avg       0.89      0.89      0.89      5029\n",
      "\n"
     ]
    }
   ],
   "source": [
    "# Evaluation on train\n",
    "model_metrics_train(y_pred_logreg_train, y_pred_logreg_proba_train)"
   ]
  },
  {
   "cell_type": "code",
   "execution_count": 14,
   "metadata": {},
   "outputs": [],
   "source": [
    "# Retrieve feature importance score for all features from Random Forest Classifier\n",
    "logreg_feature_importance = logreg.best_estimator_[1].estimator_.feature_importances_\n",
    "\n",
    "# Extract column names of all features\n",
    "logreg_column_names = list(get_numeric_data(X_train).columns) + logreg.best_estimator_['features'].transformer_list[1][1][1].get_feature_names() "
   ]
  },
  {
   "cell_type": "code",
   "execution_count": 15,
   "metadata": {},
   "outputs": [
    {
     "data": {
      "image/png": "[encoded data removed]",
      "text/plain": [
       "<Figure size 720x576 with 1 Axes>"
      ]
     },
     "metadata": {
      "needs_background": "light"
     },
     "output_type": "display_data"
    }
   ],
   "source": [
    "# Plot feature importance graph\n",
    "plot_feature_importance(logreg_feature_importance, logreg_column_names, \"LOGISTIC REGRESSION \")"
   ]
  },
  {
   "cell_type": "markdown",
   "metadata": {},
   "source": [
    "# SVM"
   ]
  },
  {
   "cell_type": "code",
   "execution_count": 16,
   "metadata": {},
   "outputs": [],
   "source": [
    "# Load file\n",
    "svm = joblib.load('models/svm.pkl')"
   ]
  },
  {
   "cell_type": "code",
   "execution_count": 17,
   "metadata": {},
   "outputs": [],
   "source": [
    "# Model prediction\n",
    "y_pred_svm = svm.predict(X_test)\n",
    "y_pred_svm_proba = svm.predict_proba(X_test)[:, 1]\n",
    "\n",
    "y_pred_svm_train = svm.predict(X_train)\n",
    "y_pred_svm_proba_train = svm.predict_proba(X_train)[:, 1]"
   ]
  },
  {
   "cell_type": "code",
   "execution_count": 18,
   "metadata": {},
   "outputs": [
    {
     "name": "stdout",
     "output_type": "stream",
     "text": [
      "Accuracy: 0.8491353607632678\n",
      "Precision: 0.8681718863801894\n",
      "Recall: 0.9430379746835443\n",
      "F1: 0.7755992529865465\n",
      "ROC_AUC: 0.8810954117755234\n",
      "\n",
      "Confusion Matrix:\n",
      "[[ 232  181]\n",
      " [  72 1192]]\n",
      "\n",
      "Classification Report:\n",
      "              precision    recall  f1-score   support\n",
      "\n",
      "           0       0.76      0.56      0.65       413\n",
      "           1       0.87      0.94      0.90      1264\n",
      "\n",
      "    accuracy                           0.85      1677\n",
      "   macro avg       0.82      0.75      0.78      1677\n",
      "weighted avg       0.84      0.85      0.84      1677\n",
      "\n"
     ]
    }
   ],
   "source": [
    "# Evaluation on test\n",
    "model_metrics(y_pred_svm, y_pred_svm_proba)"
   ]
  },
  {
   "cell_type": "code",
   "execution_count": 19,
   "metadata": {},
   "outputs": [
    {
     "name": "stdout",
     "output_type": "stream",
     "text": [
      "Accuracy: 0.9998011533107973\n",
      "Precision: 1.0\n",
      "Recall: 0.9997376016793492\n",
      "F1: 0.9997292215207563\n",
      "ROC_AUC: 1.0\n",
      "\n",
      "Confusion Matrix:\n",
      "[[1218    0]\n",
      " [   1 3810]]\n",
      "\n",
      "Classification Report:\n",
      "              precision    recall  f1-score   support\n",
      "\n",
      "           0       1.00      1.00      1.00      1218\n",
      "           1       1.00      1.00      1.00      3811\n",
      "\n",
      "    accuracy                           1.00      5029\n",
      "   macro avg       1.00      1.00      1.00      5029\n",
      "weighted avg       1.00      1.00      1.00      5029\n",
      "\n"
     ]
    }
   ],
   "source": [
    "# Evaluation on train\n",
    "model_metrics_train(y_pred_svm_train, y_pred_svm_proba_train)"
   ]
  },
  {
   "cell_type": "code",
   "execution_count": 23,
   "metadata": {},
   "outputs": [],
   "source": [
    "# Retrieve feature importance score for all features from Random Forest Classifier\n",
    "svm_feature_importance = svm.best_estimator_[1].estimator_.feature_importances_\n",
    "\n",
    "# Extract column names of all features\n",
    "svm_column_names = list(get_numeric_data(X_train).columns) + svm.best_estimator_['features'].transformer_list[1][1][1].get_feature_names() "
   ]
  },
  {
   "cell_type": "code",
   "execution_count": 24,
   "metadata": {},
   "outputs": [
    {
     "data": {
      "image/png": "[encoded data removed]",
      "text/plain": [
       "<Figure size 720x576 with 1 Axes>"
      ]
     },
     "metadata": {
      "needs_background": "light"
     },
     "output_type": "display_data"
    }
   ],
   "source": [
    "# Plot feature importance graph\n",
    "plot_feature_importance(svm_feature_importance, svm_column_names, \"SVM \")"
   ]
  },
  {
   "cell_type": "markdown",
   "metadata": {},
   "source": [
    "# Naive Bayes"
   ]
  },
  {
   "cell_type": "code",
   "execution_count": 25,
   "metadata": {},
   "outputs": [],
   "source": [
    "# Load file\n",
    "nb = joblib.load('models/nb.pkl')"
   ]
  },
  {
   "cell_type": "code",
   "execution_count": 26,
   "metadata": {},
   "outputs": [],
   "source": [
    "# Model prediction\n",
    "y_pred_nb = nb.predict(X_test)\n",
    "y_pred_nb_proba = nb.predict_proba(X_test)[:, 1]\n",
    "\n",
    "y_pred_nb_train = nb.predict(X_train)\n",
    "y_pred_nb_proba_train = nb.predict_proba(X_train)[:, 1]"
   ]
  },
  {
   "cell_type": "code",
   "execution_count": 27,
   "metadata": {},
   "outputs": [
    {
     "name": "stdout",
     "output_type": "stream",
     "text": [
      "Accuracy: 0.8097793679189028\n",
      "Precision: 0.8034682080924855\n",
      "Recall: 0.9897151898734177\n",
      "F1: 0.6442102350835631\n",
      "ROC_AUC: 0.8873900450547094\n",
      "\n",
      "Confusion Matrix:\n",
      "[[ 107  306]\n",
      " [  13 1251]]\n",
      "\n",
      "Classification Report:\n",
      "              precision    recall  f1-score   support\n",
      "\n",
      "           0       0.89      0.26      0.40       413\n",
      "           1       0.80      0.99      0.89      1264\n",
      "\n",
      "    accuracy                           0.81      1677\n",
      "   macro avg       0.85      0.62      0.64      1677\n",
      "weighted avg       0.83      0.81      0.77      1677\n",
      "\n"
     ]
    }
   ],
   "source": [
    "# Evaluation on test\n",
    "model_metrics(y_pred_nb, y_pred_nb_proba)"
   ]
  },
  {
   "cell_type": "code",
   "execution_count": 28,
   "metadata": {},
   "outputs": [
    {
     "name": "stdout",
     "output_type": "stream",
     "text": [
      "Accuracy: 0.824617220123285\n",
      "Precision: 0.8184387910415307\n",
      "Recall: 0.9876672789294149\n",
      "F1: 0.6799653383050691\n",
      "ROC_AUC: 0.889402985653404\n",
      "\n",
      "Confusion Matrix:\n",
      "[[ 383  835]\n",
      " [  47 3764]]\n",
      "\n",
      "Classification Report:\n",
      "              precision    recall  f1-score   support\n",
      "\n",
      "           0       0.89      0.31      0.46      1218\n",
      "           1       0.82      0.99      0.90      3811\n",
      "\n",
      "    accuracy                           0.82      5029\n",
      "   macro avg       0.85      0.65      0.68      5029\n",
      "weighted avg       0.84      0.82      0.79      5029\n",
      "\n"
     ]
    }
   ],
   "source": [
    "# Evaluation on train\n",
    "model_metrics_train(y_pred_nb_train, y_pred_nb_proba_train)"
   ]
  },
  {
   "cell_type": "code",
   "execution_count": 32,
   "metadata": {},
   "outputs": [],
   "source": [
    "# Retrieve feature importance score for all features from Random Forest Classifier\n",
    "nb_feature_importance = nb.best_estimator_[1].estimator_.feature_importances_\n",
    "\n",
    "# Extract column names of all features\n",
    "nb_column_names = list(get_numeric_data(X_train).columns) + nb.best_estimator_['features'].transformer_list[1][1][1].get_feature_names() "
   ]
  },
  {
   "cell_type": "code",
   "execution_count": 33,
   "metadata": {},
   "outputs": [
    {
     "data": {
      "image/png": "[encoded data removed]",
      "text/plain": [
       "<Figure size 720x576 with 1 Axes>"
      ]
     },
     "metadata": {
      "needs_background": "light"
     },
     "output_type": "display_data"
    }
   ],
   "source": [
    "# Plot feature importance graph\n",
    "plot_feature_importance(nb_feature_importance, nb_column_names, \"NAIVE BAYES \")"
   ]
  },
  {
   "cell_type": "markdown",
   "metadata": {},
   "source": [
    "# Stacking"
   ]
  },
  {
   "cell_type": "code",
   "execution_count": 34,
   "metadata": {},
   "outputs": [],
   "source": [
    "# Predictions for train datasets and convert to dataframe\n",
    "y_pred_logreg_train = pd.DataFrame(logreg.predict(X_train))\n",
    "y_pred_svm_train = pd.DataFrame(svm.predict(X_train))\n",
    "y_pred_nb_train = pd.DataFrame(nb.predict(X_train))\n",
    "\n",
    "# Convert test datasets into dataframe\n",
    "y_pred_logreg = pd.DataFrame(y_pred_logreg)\n",
    "y_pred_svm = pd.DataFrame(y_pred_svm)\n",
    "y_pred_nb = pd.DataFrame(y_pred_nb)"
   ]
  },
  {
   "cell_type": "code",
   "execution_count": 35,
   "metadata": {},
   "outputs": [],
   "source": [
    "# Concatenate the predictions for both train and test datasets for all 3 models\n",
    "df_train = pd.concat([y_pred_logreg_train, y_pred_svm_train, y_pred_nb_train],axis=1)\n",
    "df_test = pd.concat([y_pred_logreg, y_pred_svm, y_pred_nb], axis=1)"
   ]
  },
  {
   "cell_type": "code",
   "execution_count": 36,
   "metadata": {},
   "outputs": [],
   "source": [
    "# Load file\n",
    "stack_model = joblib.load('models/stack_model.pkl')"
   ]
  },
  {
   "cell_type": "code",
   "execution_count": 37,
   "metadata": {},
   "outputs": [],
   "source": [
    "# Model prediction\n",
    "y_pred_stack = stack_model.predict(df_test)\n",
    "y_pred_stack_proba = stack_model.predict_proba(df_test)[:, 1]"
   ]
  },
  {
   "cell_type": "code",
   "execution_count": 38,
   "metadata": {},
   "outputs": [
    {
     "name": "stdout",
     "output_type": "stream",
     "text": [
      "Accuracy: 0.8491353607632678\n",
      "Precision: 0.8681718863801894\n",
      "Recall: 0.9430379746835443\n",
      "F1: 0.7755992529865465\n",
      "ROC_AUC: 0.7523906580439513\n",
      "\n",
      "Confusion Matrix:\n",
      "[[ 232  181]\n",
      " [  72 1192]]\n",
      "\n",
      "Classification Report:\n",
      "              precision    recall  f1-score   support\n",
      "\n",
      "           0       0.76      0.56      0.65       413\n",
      "           1       0.87      0.94      0.90      1264\n",
      "\n",
      "    accuracy                           0.85      1677\n",
      "   macro avg       0.82      0.75      0.78      1677\n",
      "weighted avg       0.84      0.85      0.84      1677\n",
      "\n"
     ]
    }
   ],
   "source": [
    "# Evaluation\n",
    "model_metrics(y_pred_stack, y_pred_stack_proba)"
   ]
  },
  {
   "cell_type": "markdown",
   "metadata": {},
   "source": [
    "# Bagging (Logistic Regression)"
   ]
  },
  {
   "cell_type": "code",
   "execution_count": 44,
   "metadata": {},
   "outputs": [],
   "source": [
    "# Load file\n",
    "logreg_bagging = joblib.load('models/logreg_bagging.pkl')\n",
    "X_test_combined = pd.read_csv('data/X_test_vectorized_logreg.csv')\n",
    "X_train_combined = pd.read_csv('data/X_train_vectorized_logreg.csv')"
   ]
  },
  {
   "cell_type": "code",
   "execution_count": 45,
   "metadata": {},
   "outputs": [],
   "source": [
    "# Model prediction\n",
    "y_pred_logreg_bagging = logreg_bagging.predict(X_test_combined)\n",
    "y_pred_logreg_bagging_proba = logreg_bagging.predict_proba(X_test_combined)[:, 1]"
   ]
  },
  {
   "cell_type": "code",
   "execution_count": 46,
   "metadata": {
    "scrolled": true
   },
   "outputs": [
    {
     "name": "stdout",
     "output_type": "stream",
     "text": [
      "Accuracy: 0.8634466308884914\n",
      "Precision: 0.8813559322033898\n",
      "Recall: 0.9462025316455697\n",
      "F1: 0.8001070168379751\n",
      "ROC_AUC: 0.9194551291874828\n",
      "\n",
      "Confusion Matrix:\n",
      "[[ 252  161]\n",
      " [  68 1196]]\n",
      "\n",
      "Classification Report:\n",
      "              precision    recall  f1-score   support\n",
      "\n",
      "           0       0.79      0.61      0.69       413\n",
      "           1       0.88      0.95      0.91      1264\n",
      "\n",
      "    accuracy                           0.86      1677\n",
      "   macro avg       0.83      0.78      0.80      1677\n",
      "weighted avg       0.86      0.86      0.86      1677\n",
      "\n"
     ]
    }
   ],
   "source": [
    "# Evaluation\n",
    "model_metrics(y_pred_logreg_bagging, y_pred_logreg_bagging_proba)"
   ]
  },
  {
   "cell_type": "code",
   "execution_count": 47,
   "metadata": {},
   "outputs": [
    {
     "data": {
      "text/plain": [
       "0.8162656591767747"
      ]
     },
     "execution_count": 47,
     "metadata": {},
     "output_type": "execute_result"
    }
   ],
   "source": [
    "# Out of bag score\n",
    "logreg_bagging.best_estimator_.oob_score_"
   ]
  },
  {
   "cell_type": "markdown",
   "metadata": {},
   "source": [
    "# Bagging (Naive Bayes)"
   ]
  },
  {
   "cell_type": "code",
   "execution_count": 50,
   "metadata": {},
   "outputs": [],
   "source": [
    "# Load file\n",
    "nb_bagging = joblib.load('models/nb_bagging.pkl')\n",
    "X_test_combined = pd.read_csv('data/X_test_vectorized_nb.csv')\n",
    "X_train_combined = pd.read_csv('data/X_train_vectorized_nb.csv')"
   ]
  },
  {
   "cell_type": "code",
   "execution_count": 51,
   "metadata": {},
   "outputs": [],
   "source": [
    "# Model prediction\n",
    "y_pred_nb_bagging = nb_bagging.predict(X_test_combined)\n",
    "y_pred_nb_bagging_proba = nb_bagging.predict_proba(X_test_combined)[:, 1]"
   ]
  },
  {
   "cell_type": "code",
   "execution_count": 52,
   "metadata": {
    "scrolled": true
   },
   "outputs": [
    {
     "name": "stdout",
     "output_type": "stream",
     "text": [
      "Accuracy: 0.855098389982111\n",
      "Precision: 0.8542678695350451\n",
      "Recall: 0.9738924050632911\n",
      "F1: 0.767872085306842\n",
      "ROC_AUC: 0.9149247555705396\n",
      "\n",
      "Confusion Matrix:\n",
      "[[ 203  210]\n",
      " [  33 1231]]\n",
      "\n",
      "Classification Report:\n",
      "              precision    recall  f1-score   support\n",
      "\n",
      "           0       0.86      0.49      0.63       413\n",
      "           1       0.85      0.97      0.91      1264\n",
      "\n",
      "    accuracy                           0.86      1677\n",
      "   macro avg       0.86      0.73      0.77      1677\n",
      "weighted avg       0.86      0.86      0.84      1677\n",
      "\n"
     ]
    }
   ],
   "source": [
    "# Evaluation\n",
    "model_metrics(y_pred_nb_bagging, y_pred_nb_bagging_proba)"
   ]
  },
  {
   "cell_type": "code",
   "execution_count": 53,
   "metadata": {},
   "outputs": [
    {
     "data": {
      "text/plain": [
       "0.8476834360707894"
      ]
     },
     "execution_count": 53,
     "metadata": {},
     "output_type": "execute_result"
    }
   ],
   "source": [
    "# Out of bag score\n",
    "nb_bagging.best_estimator_.oob_score_"
   ]
  }
 ],
 "metadata": {
  "kernelspec": {
   "display_name": "Python 3",
   "language": "python",
   "name": "python3"
  },
  "language_info": {
   "codemirror_mode": {
    "name": "ipython",
    "version": 3
   },
   "file_extension": ".py",
   "mimetype": "text/x-python",
   "name": "python",
   "nbconvert_exporter": "python",
   "pygments_lexer": "ipython3",
   "version": "3.7.6"
  },
  "metadata": {
   "interpreter": {
    "hash": "065fd203f1735c08e994668196c9f000e424aaf0b9556055a08c0a34f8355e32"
   }
  }
 },
 "nbformat": 4,
 "nbformat_minor": 4
}
