{
 "metadata": {
  "language_info": {
   "codemirror_mode": {
    "name": "ipython",
    "version": 3
   },
   "file_extension": ".py",
   "mimetype": "text/x-python",
   "name": "python",
   "nbconvert_exporter": "python",
   "pygments_lexer": "ipython3",
   "version": "3.7.3-final"
  },
  "orig_nbformat": 2,
  "kernelspec": {
   "name": "python3",
   "display_name": "Python 3.7.3 64-bit (conda)",
   "metadata": {
    "interpreter": {
     "hash": "6753b9d856e48e7d5c01c32f2b8992eff35f59d42e6de021ab5c9a38a27610d6"
    }
   }
  }
 },
 "nbformat": 4,
 "nbformat_minor": 2,
 "cells": [
  {
   "cell_type": "code",
   "execution_count": 1,
   "metadata": {},
   "outputs": [],
   "source": [
    "# Imports\n",
    "import requests\n",
    "import numpy as np\n",
    "import pandas as pd\n",
    "from bs4 import BeautifulSoup"
   ]
  },
  {
   "cell_type": "code",
   "execution_count": 2,
   "metadata": {},
   "outputs": [],
   "source": [
    "# Links of different products\n",
    "links = ['ItemId=669/Orgasm-Blush/NARS-Cosmetics/Blush',\n",
    "'ItemId=19417/Blush---Deep-Throat/NARS-Cosmetics/Blush',\n",
    "'ItemId=1100/Sin/NARS-Cosmetics/Blush',\n",
    "'ItemId=72686/Blush---Madly/NARS-Cosmetics/Blush',\n",
    "'ItemId=108656/Blush---Dolce-Vita/NARS-Cosmetics/Blush',\n",
    "'ItemId=110468/Super-Orgasm/NARS-Cosmetics/Blush',\n",
    "'ItemId=4393/Mata-Hari-Blush/NARS-Cosmetics/Blush',\n",
    "'ItemId=29811/Blush---Taj-Mahal/NARS-Cosmetics/Blush',\n",
    "'ItemId=15375/Blush---Exhibit-A/NARS-Cosmetics/Blush',\n",
    "'ItemId=94861/Blush---Luster/NARS-Cosmetics/Blush',\n",
    "'ItemId=53564/Blush---Angelika/NARS-Cosmetics/Blush',\n",
    "'ItemId=137251/Blush---Sex-Appeal/NARS-Cosmetics/Blush',\n",
    "'ItemId=7028/Blush---Amour/NARS-Cosmetics/Blush',\n",
    "'ItemId=19377/Blush---Torrid/NARS-Cosmetics/Blush']"
   ]
  },
  {
   "cell_type": "code",
   "execution_count": 3,
   "metadata": {},
   "outputs": [],
   "source": [
    "df = pd.DataFrame(columns=['product','user_id','age', 'date', 'review','ratings','repurchase','packaging','price'])"
   ]
  },
  {
   "cell_type": "code",
   "execution_count": 4,
   "metadata": {},
   "outputs": [
    {
     "output_type": "stream",
     "name": "stdout",
     "text": [
      "ItemId=669/Orgasm-Blush/NARS-Cosmetics/Blush\n",
      "Total Pages: 534\n",
      "ItemId=19417/Blush---Deep-Throat/NARS-Cosmetics/Blush\n",
      "Total Pages: 117\n",
      "ItemId=1100/Sin/NARS-Cosmetics/Blush\n",
      "Total Pages: 77\n",
      "ItemId=72686/Blush---Madly/NARS-Cosmetics/Blush\n",
      "Total Pages: 25\n",
      "ItemId=108656/Blush---Dolce-Vita/NARS-Cosmetics/Blush\n",
      "Total Pages: 16\n",
      "ItemId=110468/Super-Orgasm/NARS-Cosmetics/Blush\n",
      "Total Pages: 25\n",
      "ItemId=4393/Mata-Hari-Blush/NARS-Cosmetics/Blush\n",
      "Total Pages: 28\n",
      "ItemId=29811/Blush---Taj-Mahal/NARS-Cosmetics/Blush\n",
      "Total Pages: 27\n",
      "ItemId=15375/Blush---Exhibit-A/NARS-Cosmetics/Blush\n",
      "Total Pages: 38\n",
      "ItemId=94861/Blush---Luster/NARS-Cosmetics/Blush\n",
      "Total Pages: 31\n",
      "ItemId=53564/Blush---Angelika/NARS-Cosmetics/Blush\n",
      "Total Pages: 30\n",
      "ItemId=137251/Blush---Sex-Appeal/NARS-Cosmetics/Blush\n",
      "Total Pages: 13\n",
      "ItemId=7028/Blush---Amour/NARS-Cosmetics/Blush\n",
      "Total Pages: 31\n",
      "ItemId=19377/Blush---Torrid/NARS-Cosmetics/Blush\n",
      "Total Pages: 50\n"
     ]
    }
   ],
   "source": [
    "for link in links:\n",
    "    print(link)\n",
    "    pagenumber = 1\n",
    "    next = True\n",
    "\n",
    "    while next:\n",
    "        makeupalley = 'https://www.makeupalley.com/product/showreview.asp/' + link + '?page=' + str(pagenumber) + '#reviews'\n",
    "        ## retrieve data and parse HTML page\n",
    "        response = requests.get(makeupalley)\n",
    "        makeup_soup = BeautifulSoup(response.text, 'html.parser')\n",
    "        ## get all reviews in the page\n",
    "        reviews = makeup_soup.findAll(\"article\", {\"class\": \"small-image-review\"})\n",
    "        # get details of each review in page\n",
    "        for review in reviews:\n",
    "            row = []\n",
    "            product = makeup_soup.find(\"h1\", {\"class\": \"mb-1\"}).text\n",
    "            row += [product]\n",
    "            user_id = review.find(\"div\", {\"class\": \"__UserLink__\"}).find('a').text.strip()\n",
    "            row += [user_id]\n",
    "            user_detail = review.find(\"div\", {\"class\": \"user-details\"}).findAll(\"span\")\n",
    "            age = user_detail[1].text\n",
    "            row += [age]\n",
    "            date = review.find(\"div\", {\"class\": \"date\"}).text\n",
    "            row += [date]\n",
    "            text_review = review.find(\"div\", {\"class\": \"__ReviewTextReadMoreV2__\"})[\"data-text\"]\n",
    "            row += [text_review]\n",
    "            ratings = review.find(\"span\", {\"class\": \"rating-value\"}).text\n",
    "            row += [ratings]\n",
    "            repurchase = makeup_soup.find(\"span\", {\"class\": \"buyagain pl-2\"}).text\n",
    "            row += [repurchase]\n",
    "            packaging = makeup_soup.find(\"span\", {\"class\": \"packaging pl-2\"}).text\n",
    "            row += [packaging]\n",
    "            price = len(makeup_soup.findAll(\"i\", {\"class\": \"fa fa-dollar\"}))\n",
    "            row += [price]\n",
    "            # print(row)\n",
    "            ## append each review to the dataframe\n",
    "            df.loc[len(df)] = row\n",
    "    \n",
    "        ## check if there is a next page to scrape\n",
    "        nextpage = makeup_soup.findAll(\"li\", {\"class\": \"next disabled\"})\n",
    "        scrape = True\n",
    "        ## if \"next disabled\" is found, no more pages to scrape; else increment page number\n",
    "        if (len(nextpage) != 0):\n",
    "            print('Total Pages: ' + str(pagenumber))\n",
    "            scrape = False\n",
    "            next = False\n",
    "        \n",
    "        if (scrape == True):\n",
    "            pagenumber += 1"
   ]
  },
  {
   "cell_type": "code",
   "execution_count": 5,
   "metadata": {},
   "outputs": [],
   "source": [
    "df = df.drop_duplicates().reset_index()"
   ]
  },
  {
   "cell_type": "code",
   "execution_count": 6,
   "metadata": {},
   "outputs": [],
   "source": [
    "df.to_csv(\"products.csv\", index=False)"
   ]
  },
  {
   "cell_type": "code",
   "execution_count": 7,
   "metadata": {},
   "outputs": [
    {
     "output_type": "execute_result",
     "data": {
      "text/plain": [
       "10351"
      ]
     },
     "metadata": {},
     "execution_count": 7
    }
   ],
   "source": [
    "len(df)"
   ]
  }
 ]
}