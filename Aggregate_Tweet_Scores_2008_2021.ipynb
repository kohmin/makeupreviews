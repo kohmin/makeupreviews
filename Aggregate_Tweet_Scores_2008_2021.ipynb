{
  "nbformat": 4,
  "nbformat_minor": 0,
  "metadata": {
    "colab": {
      "name": "Aggregate Tweet Scores 2008-2021.ipynb",
      "provenance": [],
      "collapsed_sections": []
    },
    "kernelspec": {
      "name": "python370jvsc74a57bd0ba9f23524222e776ff7809c89a8ac201e38c7148b25bbddda5c852206d69b5df",
      "display_name": "Python 3.7.0 64-bit"
    },
    "language_info": {
      "name": "python",
      "version": "3.7.0"
    }
  },
  "cells": [
    {
      "cell_type": "code",
      "metadata": {
        "id": "wKAMVzAqzaro"
      },
      "source": [
        "import pandas as pd"
      ],
      "execution_count": 1,
      "outputs": []
    },
    {
      "cell_type": "code",
      "metadata": {
        "id": "KbPYGDKFz8oU"
      },
      "source": [
        "twenty08_13 = pd.read_csv('data/tweets08-13.csv').drop(\"Unnamed: 0\",axis=1)\n",
        "twenty14_21 = pd.read_csv('data/tweets14-21_processed (final).csv').drop(\"year_new\",axis=1)"
      ],
      "execution_count": 3,
      "outputs": []
    },
    {
      "cell_type": "code",
      "metadata": {
        "colab": {
          "base_uri": "https://localhost:8080/",
          "height": 197
        },
        "id": "RwsMk9Bk0kje",
        "outputId": "a2abb778-f547-4ef3-cf5a-8af970a5e492"
      },
      "source": [
        "twenty08_13.head()"
      ],
      "execution_count": 4,
      "outputs": [
        {
          "output_type": "execute_result",
          "data": {
            "text/plain": [
              "                        date    tweet_id  \\\n",
              "0  2008-12-30 01:43:34+00:00  1085064058   \n",
              "1  2008-12-22 01:05:33+00:00  1071394691   \n",
              "2  2008-11-30 08:15:56+00:00  1030483036   \n",
              "3  2008-11-26 17:13:38+00:00  1024856953   \n",
              "4  2008-11-07 23:19:23+00:00   995675797   \n",
              "\n",
              "                                                text  year  \\\n",
              "0                  Wants to get NARS orgasm blush :)  2008   \n",
              "1  @carbfanboy yay! Aveda, Smashbox, and Stila ar...  2008   \n",
              "2  really liking the nars powder and blush so far...  2008   \n",
              "3  Hey ladies..why do I all of a sudden have a le...  2008   \n",
              "4  @DailyMakeover Nars blush in Orgasm!  Best. Bl...  2008   \n",
              "\n",
              "                                   text_preprocessed   vader  subjectivity  \n",
              "0                             Wants to get orgasm :)  0.4588          0.55  \n",
              "1  yay! Aveda, Smashbox, and Stila are on the lis... -0.3147          0.75  \n",
              "2  really liking the powder and so far, no break out  0.1317          0.60  \n",
              "3  Hey ladies..why do I all of a sudden have a le...  0.6996          0.60  \n",
              "4                      in Orgasm! Best. Blush. Ever.  0.6696          0.30  "
            ],
            "text/html": "<div>\n<style scoped>\n    .dataframe tbody tr th:only-of-type {\n        vertical-align: middle;\n    }\n\n    .dataframe tbody tr th {\n        vertical-align: top;\n    }\n\n    .dataframe thead th {\n        text-align: right;\n    }\n</style>\n<table border=\"1\" class=\"dataframe\">\n  <thead>\n    <tr style=\"text-align: right;\">\n      <th></th>\n      <th>date</th>\n      <th>tweet_id</th>\n      <th>text</th>\n      <th>year</th>\n      <th>text_preprocessed</th>\n      <th>vader</th>\n      <th>subjectivity</th>\n    </tr>\n  </thead>\n  <tbody>\n    <tr>\n      <th>0</th>\n      <td>2008-12-30 01:43:34+00:00</td>\n      <td>1085064058</td>\n      <td>Wants to get NARS orgasm blush :)</td>\n      <td>2008</td>\n      <td>Wants to get orgasm :)</td>\n      <td>0.4588</td>\n      <td>0.55</td>\n    </tr>\n    <tr>\n      <th>1</th>\n      <td>2008-12-22 01:05:33+00:00</td>\n      <td>1071394691</td>\n      <td>@carbfanboy yay! Aveda, Smashbox, and Stila ar...</td>\n      <td>2008</td>\n      <td>yay! Aveda, Smashbox, and Stila are on the lis...</td>\n      <td>-0.3147</td>\n      <td>0.75</td>\n    </tr>\n    <tr>\n      <th>2</th>\n      <td>2008-11-30 08:15:56+00:00</td>\n      <td>1030483036</td>\n      <td>really liking the nars powder and blush so far...</td>\n      <td>2008</td>\n      <td>really liking the powder and so far, no break out</td>\n      <td>0.1317</td>\n      <td>0.60</td>\n    </tr>\n    <tr>\n      <th>3</th>\n      <td>2008-11-26 17:13:38+00:00</td>\n      <td>1024856953</td>\n      <td>Hey ladies..why do I all of a sudden have a le...</td>\n      <td>2008</td>\n      <td>Hey ladies..why do I all of a sudden have a le...</td>\n      <td>0.6996</td>\n      <td>0.60</td>\n    </tr>\n    <tr>\n      <th>4</th>\n      <td>2008-11-07 23:19:23+00:00</td>\n      <td>995675797</td>\n      <td>@DailyMakeover Nars blush in Orgasm!  Best. Bl...</td>\n      <td>2008</td>\n      <td>in Orgasm! Best. Blush. Ever.</td>\n      <td>0.6696</td>\n      <td>0.30</td>\n    </tr>\n  </tbody>\n</table>\n</div>"
          },
          "metadata": {},
          "execution_count": 4
        }
      ]
    },
    {
      "cell_type": "code",
      "metadata": {
        "colab": {
          "base_uri": "https://localhost:8080/",
          "height": 197
        },
        "id": "ghyJeQp30oVW",
        "outputId": "7eb423fe-502f-47e0-ae00-8bf958275f07"
      },
      "source": [
        "twenty14_21.head()"
      ],
      "execution_count": 5,
      "outputs": [
        {
          "output_type": "execute_result",
          "data": {
            "text/plain": [
              "                        date      tweet_id  \\\n",
              "0  2014-12-31 21:46:43+00:00  5.500000e+17   \n",
              "1  2014-12-31 08:29:37+00:00  5.500000e+17   \n",
              "2  2014-12-31 04:31:35+00:00  5.500000e+17   \n",
              "3  2014-12-31 00:16:59+00:00  5.500000e+17   \n",
              "4  2014-12-30 21:46:46+00:00  5.500000e+17   \n",
              "\n",
              "                                                text  year  \\\n",
              "0  @Barakatswhore I got brow gel, gimme brow, Nar...  2014   \n",
              "1  You know your boyfriend is the best when he bu...  2014   \n",
              "2                   And my Nars highlighting blush 💁  2014   \n",
              "3  Nars super orgasm blush is needed. Orgasm does...  2014   \n",
              "4  I'm obsessed with the orgasm blush by NARS, it...  2014   \n",
              "\n",
              "                                   text_preprocessed   vader  subjectivity  \n",
              "0  I got brow gel, gimme brow,   stick and bronze...  0.4588      0.000000  \n",
              "1  You know your boyfriend is the best when he bu...  0.8625      0.150000  \n",
              "2                            And my  highlighting  💁  0.4939      0.000000  \n",
              "3  super orgasm  is needed. Orgasm does nothing f...  0.5994      0.666667  \n",
              "4  I'm obsessed with the orgasm  by , it's perfec...  0.9001      1.000000  "
            ],
            "text/html": "<div>\n<style scoped>\n    .dataframe tbody tr th:only-of-type {\n        vertical-align: middle;\n    }\n\n    .dataframe tbody tr th {\n        vertical-align: top;\n    }\n\n    .dataframe thead th {\n        text-align: right;\n    }\n</style>\n<table border=\"1\" class=\"dataframe\">\n  <thead>\n    <tr style=\"text-align: right;\">\n      <th></th>\n      <th>date</th>\n      <th>tweet_id</th>\n      <th>text</th>\n      <th>year</th>\n      <th>text_preprocessed</th>\n      <th>vader</th>\n      <th>subjectivity</th>\n    </tr>\n  </thead>\n  <tbody>\n    <tr>\n      <th>0</th>\n      <td>2014-12-31 21:46:43+00:00</td>\n      <td>5.500000e+17</td>\n      <td>@Barakatswhore I got brow gel, gimme brow, Nar...</td>\n      <td>2014</td>\n      <td>I got brow gel, gimme brow,   stick and bronze...</td>\n      <td>0.4588</td>\n      <td>0.000000</td>\n    </tr>\n    <tr>\n      <th>1</th>\n      <td>2014-12-31 08:29:37+00:00</td>\n      <td>5.500000e+17</td>\n      <td>You know your boyfriend is the best when he bu...</td>\n      <td>2014</td>\n      <td>You know your boyfriend is the best when he bu...</td>\n      <td>0.8625</td>\n      <td>0.150000</td>\n    </tr>\n    <tr>\n      <th>2</th>\n      <td>2014-12-31 04:31:35+00:00</td>\n      <td>5.500000e+17</td>\n      <td>And my Nars highlighting blush 💁</td>\n      <td>2014</td>\n      <td>And my  highlighting  💁</td>\n      <td>0.4939</td>\n      <td>0.000000</td>\n    </tr>\n    <tr>\n      <th>3</th>\n      <td>2014-12-31 00:16:59+00:00</td>\n      <td>5.500000e+17</td>\n      <td>Nars super orgasm blush is needed. Orgasm does...</td>\n      <td>2014</td>\n      <td>super orgasm  is needed. Orgasm does nothing f...</td>\n      <td>0.5994</td>\n      <td>0.666667</td>\n    </tr>\n    <tr>\n      <th>4</th>\n      <td>2014-12-30 21:46:46+00:00</td>\n      <td>5.500000e+17</td>\n      <td>I'm obsessed with the orgasm blush by NARS, it...</td>\n      <td>2014</td>\n      <td>I'm obsessed with the orgasm  by , it's perfec...</td>\n      <td>0.9001</td>\n      <td>1.000000</td>\n    </tr>\n  </tbody>\n</table>\n</div>"
          },
          "metadata": {},
          "execution_count": 5
        }
      ]
    },
    {
      "cell_type": "code",
      "metadata": {
        "colab": {
          "base_uri": "https://localhost:8080/",
          "height": 407
        },
        "id": "Dy2OhCDq1G-n",
        "outputId": "b128af60-76c1-4abc-ae2f-494af27fa541"
      },
      "source": [
        "scores_allyears = pd.concat([twenty08_13, twenty14_21])\n",
        "scores_allyears.reset_index(drop=True, inplace=True)\n",
        "scores_allyears"
      ],
      "execution_count": 6,
      "outputs": [
        {
          "output_type": "execute_result",
          "data": {
            "text/plain": [
              "                            date      tweet_id  \\\n",
              "0      2008-12-30 01:43:34+00:00  1.085064e+09   \n",
              "1      2008-12-22 01:05:33+00:00  1.071395e+09   \n",
              "2      2008-11-30 08:15:56+00:00  1.030483e+09   \n",
              "3      2008-11-26 17:13:38+00:00  1.024857e+09   \n",
              "4      2008-11-07 23:19:23+00:00  9.956758e+08   \n",
              "...                          ...           ...   \n",
              "14933  2021-01-04 23:14:23+00:00  1.350000e+18   \n",
              "14934  2021-01-04 16:03:41+00:00  1.350000e+18   \n",
              "14935  2021-01-03 21:55:38+00:00  1.350000e+18   \n",
              "14936  2021-01-01 20:01:45+00:00  1.350000e+18   \n",
              "14937  2021-01-01 17:49:12+00:00  1.350000e+18   \n",
              "\n",
              "                                                    text  year  \\\n",
              "0                      Wants to get NARS orgasm blush :)  2008   \n",
              "1      @carbfanboy yay! Aveda, Smashbox, and Stila ar...  2008   \n",
              "2      really liking the nars powder and blush so far...  2008   \n",
              "3      Hey ladies..why do I all of a sudden have a le...  2008   \n",
              "4      @DailyMakeover Nars blush in Orgasm!  Best. Bl...  2008   \n",
              "...                                                  ...   ...   \n",
              "14933  @AaaclmyyAelny Well. I like Nudestix a lot, es...  2021   \n",
              "14934  @NARSCosmetics Ohhh....myyyyyy...now this coll...  2021   \n",
              "14935  Bought the Nars Deep throat blush cause I’m co...  2021   \n",
              "14936  @mariofthemoon Thank you 🥺 NARS bronzer in Lag...  2021   \n",
              "14937  @Engienix thank u sm! i used the tarteist pro ...  2021   \n",
              "\n",
              "                                       text_preprocessed   vader  subjectivity  \n",
              "0                                 Wants to get orgasm :)  0.4588      0.550000  \n",
              "1      yay! Aveda, Smashbox, and Stila are on the lis... -0.3147      0.750000  \n",
              "2      really liking the powder and so far, no break out  0.1317      0.600000  \n",
              "3      Hey ladies..why do I all of a sudden have a le...  0.6996      0.600000  \n",
              "4                          in Orgasm! Best. Blush. Ever.  0.6696      0.300000  \n",
              "...                                                  ...     ...           ...  \n",
              "14933  Well. I like Nudestix a lot, especially their ...  0.9451      0.663636  \n",
              "14934  Ohhh....myyyyyy...now this collection is screa...  0.8109      0.500000  \n",
              "14935  Bought the  Deep throat  cause I’m como siempr...  0.0000      0.400000  \n",
              "14936  Thank you 🥺  bronzer in Laguna & Milani Baked ...  0.3612      0.950000  \n",
              "14937  thank u sm! i used the tarteist pro palette , ...  0.4199      0.700000  \n",
              "\n",
              "[14938 rows x 7 columns]"
            ],
            "text/html": "<div>\n<style scoped>\n    .dataframe tbody tr th:only-of-type {\n        vertical-align: middle;\n    }\n\n    .dataframe tbody tr th {\n        vertical-align: top;\n    }\n\n    .dataframe thead th {\n        text-align: right;\n    }\n</style>\n<table border=\"1\" class=\"dataframe\">\n  <thead>\n    <tr style=\"text-align: right;\">\n      <th></th>\n      <th>date</th>\n      <th>tweet_id</th>\n      <th>text</th>\n      <th>year</th>\n      <th>text_preprocessed</th>\n      <th>vader</th>\n      <th>subjectivity</th>\n    </tr>\n  </thead>\n  <tbody>\n    <tr>\n      <th>0</th>\n      <td>2008-12-30 01:43:34+00:00</td>\n      <td>1.085064e+09</td>\n      <td>Wants to get NARS orgasm blush :)</td>\n      <td>2008</td>\n      <td>Wants to get orgasm :)</td>\n      <td>0.4588</td>\n      <td>0.550000</td>\n    </tr>\n    <tr>\n      <th>1</th>\n      <td>2008-12-22 01:05:33+00:00</td>\n      <td>1.071395e+09</td>\n      <td>@carbfanboy yay! Aveda, Smashbox, and Stila ar...</td>\n      <td>2008</td>\n      <td>yay! Aveda, Smashbox, and Stila are on the lis...</td>\n      <td>-0.3147</td>\n      <td>0.750000</td>\n    </tr>\n    <tr>\n      <th>2</th>\n      <td>2008-11-30 08:15:56+00:00</td>\n      <td>1.030483e+09</td>\n      <td>really liking the nars powder and blush so far...</td>\n      <td>2008</td>\n      <td>really liking the powder and so far, no break out</td>\n      <td>0.1317</td>\n      <td>0.600000</td>\n    </tr>\n    <tr>\n      <th>3</th>\n      <td>2008-11-26 17:13:38+00:00</td>\n      <td>1.024857e+09</td>\n      <td>Hey ladies..why do I all of a sudden have a le...</td>\n      <td>2008</td>\n      <td>Hey ladies..why do I all of a sudden have a le...</td>\n      <td>0.6996</td>\n      <td>0.600000</td>\n    </tr>\n    <tr>\n      <th>4</th>\n      <td>2008-11-07 23:19:23+00:00</td>\n      <td>9.956758e+08</td>\n      <td>@DailyMakeover Nars blush in Orgasm!  Best. Bl...</td>\n      <td>2008</td>\n      <td>in Orgasm! Best. Blush. Ever.</td>\n      <td>0.6696</td>\n      <td>0.300000</td>\n    </tr>\n    <tr>\n      <th>...</th>\n      <td>...</td>\n      <td>...</td>\n      <td>...</td>\n      <td>...</td>\n      <td>...</td>\n      <td>...</td>\n      <td>...</td>\n    </tr>\n    <tr>\n      <th>14933</th>\n      <td>2021-01-04 23:14:23+00:00</td>\n      <td>1.350000e+18</td>\n      <td>@AaaclmyyAelny Well. I like Nudestix a lot, es...</td>\n      <td>2021</td>\n      <td>Well. I like Nudestix a lot, especially their ...</td>\n      <td>0.9451</td>\n      <td>0.663636</td>\n    </tr>\n    <tr>\n      <th>14934</th>\n      <td>2021-01-04 16:03:41+00:00</td>\n      <td>1.350000e+18</td>\n      <td>@NARSCosmetics Ohhh....myyyyyy...now this coll...</td>\n      <td>2021</td>\n      <td>Ohhh....myyyyyy...now this collection is screa...</td>\n      <td>0.8109</td>\n      <td>0.500000</td>\n    </tr>\n    <tr>\n      <th>14935</th>\n      <td>2021-01-03 21:55:38+00:00</td>\n      <td>1.350000e+18</td>\n      <td>Bought the Nars Deep throat blush cause I’m co...</td>\n      <td>2021</td>\n      <td>Bought the  Deep throat  cause I’m como siempr...</td>\n      <td>0.0000</td>\n      <td>0.400000</td>\n    </tr>\n    <tr>\n      <th>14936</th>\n      <td>2021-01-01 20:01:45+00:00</td>\n      <td>1.350000e+18</td>\n      <td>@mariofthemoon Thank you 🥺 NARS bronzer in Lag...</td>\n      <td>2021</td>\n      <td>Thank you 🥺  bronzer in Laguna &amp; Milani Baked ...</td>\n      <td>0.3612</td>\n      <td>0.950000</td>\n    </tr>\n    <tr>\n      <th>14937</th>\n      <td>2021-01-01 17:49:12+00:00</td>\n      <td>1.350000e+18</td>\n      <td>@Engienix thank u sm! i used the tarteist pro ...</td>\n      <td>2021</td>\n      <td>thank u sm! i used the tarteist pro palette , ...</td>\n      <td>0.4199</td>\n      <td>0.700000</td>\n    </tr>\n  </tbody>\n</table>\n<p>14938 rows × 7 columns</p>\n</div>"
          },
          "metadata": {},
          "execution_count": 6
        }
      ]
    },
    {
      "cell_type": "code",
      "metadata": {
        "colab": {
          "base_uri": "https://localhost:8080/",
          "height": 407
        },
        "id": "4B3xDELQ19g2",
        "outputId": "d3548557-6f3c-47f2-c6c0-d7df409211f2"
      },
      "source": [
        "scores_allyears['year_new'] = scores_allyears.year.map({2008:2008, 2009:2009, 2010:2010, 2011:2011, 2012:2012, 2013:2013,\n",
        "                                                 2014:2014, 2015:2015, 2016:2016, 2017:2017, 2018:2018, 2019:2019, 2020:2020, 2021:2020})\n",
        "scores_allyears"
      ],
      "execution_count": 7,
      "outputs": [
        {
          "output_type": "execute_result",
          "data": {
            "text/plain": [
              "                            date      tweet_id  \\\n",
              "0      2008-12-30 01:43:34+00:00  1.085064e+09   \n",
              "1      2008-12-22 01:05:33+00:00  1.071395e+09   \n",
              "2      2008-11-30 08:15:56+00:00  1.030483e+09   \n",
              "3      2008-11-26 17:13:38+00:00  1.024857e+09   \n",
              "4      2008-11-07 23:19:23+00:00  9.956758e+08   \n",
              "...                          ...           ...   \n",
              "14933  2021-01-04 23:14:23+00:00  1.350000e+18   \n",
              "14934  2021-01-04 16:03:41+00:00  1.350000e+18   \n",
              "14935  2021-01-03 21:55:38+00:00  1.350000e+18   \n",
              "14936  2021-01-01 20:01:45+00:00  1.350000e+18   \n",
              "14937  2021-01-01 17:49:12+00:00  1.350000e+18   \n",
              "\n",
              "                                                    text  year  \\\n",
              "0                      Wants to get NARS orgasm blush :)  2008   \n",
              "1      @carbfanboy yay! Aveda, Smashbox, and Stila ar...  2008   \n",
              "2      really liking the nars powder and blush so far...  2008   \n",
              "3      Hey ladies..why do I all of a sudden have a le...  2008   \n",
              "4      @DailyMakeover Nars blush in Orgasm!  Best. Bl...  2008   \n",
              "...                                                  ...   ...   \n",
              "14933  @AaaclmyyAelny Well. I like Nudestix a lot, es...  2021   \n",
              "14934  @NARSCosmetics Ohhh....myyyyyy...now this coll...  2021   \n",
              "14935  Bought the Nars Deep throat blush cause I’m co...  2021   \n",
              "14936  @mariofthemoon Thank you 🥺 NARS bronzer in Lag...  2021   \n",
              "14937  @Engienix thank u sm! i used the tarteist pro ...  2021   \n",
              "\n",
              "                                       text_preprocessed   vader  \\\n",
              "0                                 Wants to get orgasm :)  0.4588   \n",
              "1      yay! Aveda, Smashbox, and Stila are on the lis... -0.3147   \n",
              "2      really liking the powder and so far, no break out  0.1317   \n",
              "3      Hey ladies..why do I all of a sudden have a le...  0.6996   \n",
              "4                          in Orgasm! Best. Blush. Ever.  0.6696   \n",
              "...                                                  ...     ...   \n",
              "14933  Well. I like Nudestix a lot, especially their ...  0.9451   \n",
              "14934  Ohhh....myyyyyy...now this collection is screa...  0.8109   \n",
              "14935  Bought the  Deep throat  cause I’m como siempr...  0.0000   \n",
              "14936  Thank you 🥺  bronzer in Laguna & Milani Baked ...  0.3612   \n",
              "14937  thank u sm! i used the tarteist pro palette , ...  0.4199   \n",
              "\n",
              "       subjectivity  year_new  \n",
              "0          0.550000      2008  \n",
              "1          0.750000      2008  \n",
              "2          0.600000      2008  \n",
              "3          0.600000      2008  \n",
              "4          0.300000      2008  \n",
              "...             ...       ...  \n",
              "14933      0.663636      2020  \n",
              "14934      0.500000      2020  \n",
              "14935      0.400000      2020  \n",
              "14936      0.950000      2020  \n",
              "14937      0.700000      2020  \n",
              "\n",
              "[14938 rows x 8 columns]"
            ],
            "text/html": "<div>\n<style scoped>\n    .dataframe tbody tr th:only-of-type {\n        vertical-align: middle;\n    }\n\n    .dataframe tbody tr th {\n        vertical-align: top;\n    }\n\n    .dataframe thead th {\n        text-align: right;\n    }\n</style>\n<table border=\"1\" class=\"dataframe\">\n  <thead>\n    <tr style=\"text-align: right;\">\n      <th></th>\n      <th>date</th>\n      <th>tweet_id</th>\n      <th>text</th>\n      <th>year</th>\n      <th>text_preprocessed</th>\n      <th>vader</th>\n      <th>subjectivity</th>\n      <th>year_new</th>\n    </tr>\n  </thead>\n  <tbody>\n    <tr>\n      <th>0</th>\n      <td>2008-12-30 01:43:34+00:00</td>\n      <td>1.085064e+09</td>\n      <td>Wants to get NARS orgasm blush :)</td>\n      <td>2008</td>\n      <td>Wants to get orgasm :)</td>\n      <td>0.4588</td>\n      <td>0.550000</td>\n      <td>2008</td>\n    </tr>\n    <tr>\n      <th>1</th>\n      <td>2008-12-22 01:05:33+00:00</td>\n      <td>1.071395e+09</td>\n      <td>@carbfanboy yay! Aveda, Smashbox, and Stila ar...</td>\n      <td>2008</td>\n      <td>yay! Aveda, Smashbox, and Stila are on the lis...</td>\n      <td>-0.3147</td>\n      <td>0.750000</td>\n      <td>2008</td>\n    </tr>\n    <tr>\n      <th>2</th>\n      <td>2008-11-30 08:15:56+00:00</td>\n      <td>1.030483e+09</td>\n      <td>really liking the nars powder and blush so far...</td>\n      <td>2008</td>\n      <td>really liking the powder and so far, no break out</td>\n      <td>0.1317</td>\n      <td>0.600000</td>\n      <td>2008</td>\n    </tr>\n    <tr>\n      <th>3</th>\n      <td>2008-11-26 17:13:38+00:00</td>\n      <td>1.024857e+09</td>\n      <td>Hey ladies..why do I all of a sudden have a le...</td>\n      <td>2008</td>\n      <td>Hey ladies..why do I all of a sudden have a le...</td>\n      <td>0.6996</td>\n      <td>0.600000</td>\n      <td>2008</td>\n    </tr>\n    <tr>\n      <th>4</th>\n      <td>2008-11-07 23:19:23+00:00</td>\n      <td>9.956758e+08</td>\n      <td>@DailyMakeover Nars blush in Orgasm!  Best. Bl...</td>\n      <td>2008</td>\n      <td>in Orgasm! Best. Blush. Ever.</td>\n      <td>0.6696</td>\n      <td>0.300000</td>\n      <td>2008</td>\n    </tr>\n    <tr>\n      <th>...</th>\n      <td>...</td>\n      <td>...</td>\n      <td>...</td>\n      <td>...</td>\n      <td>...</td>\n      <td>...</td>\n      <td>...</td>\n      <td>...</td>\n    </tr>\n    <tr>\n      <th>14933</th>\n      <td>2021-01-04 23:14:23+00:00</td>\n      <td>1.350000e+18</td>\n      <td>@AaaclmyyAelny Well. I like Nudestix a lot, es...</td>\n      <td>2021</td>\n      <td>Well. I like Nudestix a lot, especially their ...</td>\n      <td>0.9451</td>\n      <td>0.663636</td>\n      <td>2020</td>\n    </tr>\n    <tr>\n      <th>14934</th>\n      <td>2021-01-04 16:03:41+00:00</td>\n      <td>1.350000e+18</td>\n      <td>@NARSCosmetics Ohhh....myyyyyy...now this coll...</td>\n      <td>2021</td>\n      <td>Ohhh....myyyyyy...now this collection is screa...</td>\n      <td>0.8109</td>\n      <td>0.500000</td>\n      <td>2020</td>\n    </tr>\n    <tr>\n      <th>14935</th>\n      <td>2021-01-03 21:55:38+00:00</td>\n      <td>1.350000e+18</td>\n      <td>Bought the Nars Deep throat blush cause I’m co...</td>\n      <td>2021</td>\n      <td>Bought the  Deep throat  cause I’m como siempr...</td>\n      <td>0.0000</td>\n      <td>0.400000</td>\n      <td>2020</td>\n    </tr>\n    <tr>\n      <th>14936</th>\n      <td>2021-01-01 20:01:45+00:00</td>\n      <td>1.350000e+18</td>\n      <td>@mariofthemoon Thank you 🥺 NARS bronzer in Lag...</td>\n      <td>2021</td>\n      <td>Thank you 🥺  bronzer in Laguna &amp; Milani Baked ...</td>\n      <td>0.3612</td>\n      <td>0.950000</td>\n      <td>2020</td>\n    </tr>\n    <tr>\n      <th>14937</th>\n      <td>2021-01-01 17:49:12+00:00</td>\n      <td>1.350000e+18</td>\n      <td>@Engienix thank u sm! i used the tarteist pro ...</td>\n      <td>2021</td>\n      <td>thank u sm! i used the tarteist pro palette , ...</td>\n      <td>0.4199</td>\n      <td>0.700000</td>\n      <td>2020</td>\n    </tr>\n  </tbody>\n</table>\n<p>14938 rows × 8 columns</p>\n</div>"
          },
          "metadata": {},
          "execution_count": 7
        }
      ]
    },
    {
      "cell_type": "code",
      "metadata": {
        "colab": {
          "base_uri": "https://localhost:8080/",
          "height": 467
        },
        "id": "wNWqhZIv1s8a",
        "outputId": "62b6b5f7-204b-45c6-c18f-9de47b9a13e9"
      },
      "source": [
        "agg_score = scores_allyears.groupby('year_new').mean().drop(['tweet_id','year'], axis=1)\n",
        "agg_score"
      ],
      "execution_count": 8,
      "outputs": [
        {
          "output_type": "execute_result",
          "data": {
            "text/plain": [
              "             vader  subjectivity\n",
              "year_new                        \n",
              "2008      0.371095      0.459237\n",
              "2009      0.370860      0.475603\n",
              "2010      0.362980      0.490446\n",
              "2011      0.313569      0.483766\n",
              "2012      0.314022      0.471639\n",
              "2013      0.263669      0.456229\n",
              "2014      0.274153      0.439074\n",
              "2015      0.253708      0.426396\n",
              "2016      0.253013      0.419337\n",
              "2017      0.231176      0.413557\n",
              "2018      0.307571      0.429923\n",
              "2019      0.342758      0.425779\n",
              "2020      0.360757      0.422651"
            ],
            "text/html": "<div>\n<style scoped>\n    .dataframe tbody tr th:only-of-type {\n        vertical-align: middle;\n    }\n\n    .dataframe tbody tr th {\n        vertical-align: top;\n    }\n\n    .dataframe thead th {\n        text-align: right;\n    }\n</style>\n<table border=\"1\" class=\"dataframe\">\n  <thead>\n    <tr style=\"text-align: right;\">\n      <th></th>\n      <th>vader</th>\n      <th>subjectivity</th>\n    </tr>\n    <tr>\n      <th>year_new</th>\n      <th></th>\n      <th></th>\n    </tr>\n  </thead>\n  <tbody>\n    <tr>\n      <th>2008</th>\n      <td>0.371095</td>\n      <td>0.459237</td>\n    </tr>\n    <tr>\n      <th>2009</th>\n      <td>0.370860</td>\n      <td>0.475603</td>\n    </tr>\n    <tr>\n      <th>2010</th>\n      <td>0.362980</td>\n      <td>0.490446</td>\n    </tr>\n    <tr>\n      <th>2011</th>\n      <td>0.313569</td>\n      <td>0.483766</td>\n    </tr>\n    <tr>\n      <th>2012</th>\n      <td>0.314022</td>\n      <td>0.471639</td>\n    </tr>\n    <tr>\n      <th>2013</th>\n      <td>0.263669</td>\n      <td>0.456229</td>\n    </tr>\n    <tr>\n      <th>2014</th>\n      <td>0.274153</td>\n      <td>0.439074</td>\n    </tr>\n    <tr>\n      <th>2015</th>\n      <td>0.253708</td>\n      <td>0.426396</td>\n    </tr>\n    <tr>\n      <th>2016</th>\n      <td>0.253013</td>\n      <td>0.419337</td>\n    </tr>\n    <tr>\n      <th>2017</th>\n      <td>0.231176</td>\n      <td>0.413557</td>\n    </tr>\n    <tr>\n      <th>2018</th>\n      <td>0.307571</td>\n      <td>0.429923</td>\n    </tr>\n    <tr>\n      <th>2019</th>\n      <td>0.342758</td>\n      <td>0.425779</td>\n    </tr>\n    <tr>\n      <th>2020</th>\n      <td>0.360757</td>\n      <td>0.422651</td>\n    </tr>\n  </tbody>\n</table>\n</div>"
          },
          "metadata": {},
          "execution_count": 8
        }
      ]
    },
    {
      "cell_type": "code",
      "metadata": {
        "id": "8629eu2_2kwe"
      },
      "source": [
        "agg_score.to_csv('data/alltweets_score.csv')"
      ],
      "execution_count": 9,
      "outputs": []
    }
  ]
}