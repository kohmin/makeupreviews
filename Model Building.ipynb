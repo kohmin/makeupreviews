{
 "cells": [
  {
   "cell_type": "code",
   "execution_count": null,
   "metadata": {},
   "outputs": [],
   "source": [
    "import pandas as pd\n",
    "import numpy as np\n",
    "import matplotlib.pyplot as plt\n",
    "from sklearn.metrics import confusion_matrix, roc_auc_score ,roc_curve,auc\n",
    "from sklearn.model_selection import GridSearchCV,StratifiedKFold\n",
    "from sklearn.linear_model import LogisticRegression"
   ]
  },
  {
   "cell_type": "code",
   "execution_count": null,
   "metadata": {},
   "outputs": [],
   "source": [
    "# Import dataset\n",
    "X_train = pd.read_excel('data/X_train.csv')\n",
    "X_test = pd.read_excel('data/X_test.csv')\n",
    "y_train = pd.read_excel('data/y_train.csv')\n",
    "y_test = pd.read_excel('data/y_test.csv')"
   ]
  },
  {
   "cell_type": "code",
   "execution_count": null,
   "metadata": {},
   "outputs": [],
   "source": [
    "# Check class distribution\n",
    "y_train['repurchase_again'].value_counts()"
   ]
  },
  {
   "source": [
    "# Logistic Regression"
   ],
   "cell_type": "markdown",
   "metadata": {}
  },
  {
   "cell_type": "code",
   "execution_count": null,
   "metadata": {},
   "outputs": [],
   "source": [
    "log_reg = LogisticRegression()\n",
    "log_reg.fit(X_train, y_train)"
   ]
  },
  {
   "cell_type": "code",
   "execution_count": null,
   "metadata": {},
   "outputs": [],
   "source": [
    "kf = StratifiedKFold(n_splits=5,shuffle=True,random_state=seed)\n",
    "pred_test_full =0\n",
    "cv_score =[]\n",
    "i=1\n",
    "for train_index,test_index in kf.split(X_train,y_train):\n",
    "    print('{} of KFold {}'.format(i,kf.n_splits))\n",
    "    xtr,xvl = X.loc[train_index],X.loc[test_index]\n",
    "    ytr,yvl = y.loc[train_index],y.loc[test_index]\n",
    "    \n",
    "    #model\n",
    "    lr = LogisticRegression()\n",
    "    lr.fit(xtr,ytr)\n",
    "    score = roc_auc_score(yvl,lr.predict(xvl))\n",
    "    print('ROC AUC score:',score)\n",
    "    cv_score.append(score)    \n",
    "    pred_test = lr.predict_proba(x_test)[:,1]\n",
    "    pred_test_full +=pred_test\n",
    "    i+=1"
   ]
  },
  {
   "source": [
    "# SVM"
   ],
   "cell_type": "markdown",
   "metadata": {}
  },
  {
   "cell_type": "code",
   "execution_count": null,
   "metadata": {},
   "outputs": [],
   "source": []
  },
  {
   "source": [
    "# Naive Bayes"
   ],
   "cell_type": "markdown",
   "metadata": {}
  },
  {
   "cell_type": "code",
   "execution_count": null,
   "metadata": {},
   "outputs": [],
   "source": [
    "nb = MultinomialNB()\n",
    "nb.fit(X_train_dtm_c, y_train)\n",
    "y_pred_class_train_c = nb.predict(X_train_dtm_c)\n",
    "y_pred_class_test_c = nb.predict(X_test_dtm_c)"
   ]
  },
  {
   "cell_type": "code",
   "execution_count": null,
   "metadata": {},
   "outputs": [],
   "source": [
    "print('--- Train ---')\n",
    "print('Accuracy:', metrics.accuracy_score(y_train, y_pred_class_train_c))\n",
    "print('Precision:', metrics.precision_score(y_train, y_pred_class_train_c))\n",
    "print('Recall:', metrics.recall_score(y_train, y_pred_class_train_c))\n",
    "print('ROC_AUC:', metrics.roc_auc_score(y_train, y_pred_class_train_c))\n",
    "\n",
    "print('\\nConfusion Matrix:')\n",
    "print(metrics.confusion_matrix(y_train, y_pred_class_train_c))\n",
    "\n",
    "\n",
    "print('\\n--- Test ---')\n",
    "print('Accuracy:', metrics.accuracy_score(y_test, y_pred_class_test_c))\n",
    "print('Precision:', metrics.precision_score(y_test, y_pred_class_test_c))\n",
    "print('Recall:', metrics.recall_score(y_test, y_pred_class_test_c))\n",
    "print('ROC_AUC:', metrics.roc_auc_score(y_test, y_pred_class_test_c))\n",
    "\n",
    "print('\\nConfusion Matrix:')\n",
    "print(metrics.confusion_matrix(y_test, y_pred_class_test_c))"
   ]
  }
 ],
 "metadata": {
  "kernelspec": {
   "display_name": "Python 3",
   "language": "python",
   "name": "python3"
  },
  "language_info": {
   "codemirror_mode": {
    "name": "ipython",
    "version": 3
   },
   "file_extension": ".py",
   "mimetype": "text/x-python",
   "name": "python",
   "nbconvert_exporter": "python",
   "pygments_lexer": "ipython3",
   "version": "3.7.6"
  }
 },
 "nbformat": 4,
 "nbformat_minor": 4
}