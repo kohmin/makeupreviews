{
 "cells": [
  {
   "cell_type": "code",
   "execution_count": null,
   "metadata": {},
   "outputs": [],
   "source": [
    "import pandas as pd\n",
    "import numpy as np\n",
    "import matplotlib.pyplot as plt\n",
    "from sklearn.model_selection import train_test_split, cross_val_score\n",
    "from sklearn.feature_extraction.text import CountVectorizer\n",
    "from sklearn.feature_extraction.text import TfidfVectorizer\n"
   ]
  },
  {
   "cell_type": "code",
   "execution_count": null,
   "metadata": {},
   "outputs": [],
   "source": [
    "# Import dataset\n",
    "df = pd.read_excel('')"
   ]
  },
  {
   "cell_type": "code",
   "execution_count": null,
   "metadata": {},
   "outputs": [],
   "source": [
    "# Check class distribution\n",
    "df['repurchase_again'].value_counts()"
   ]
  },
  {
   "cell_type": "code",
   "execution_count": null,
   "metadata": {},
   "outputs": [],
   "source": [
    "X = df.drop(['repurchase_again'], axis=1)\n",
    "y = df['repurchase_again']\n",
    "\n",
    "X_train, X_test, y_train, y_test = train_test_split(X, y, random_state=1)"
   ]
  },
  {
   "cell_type": "code",
   "execution_count": null,
   "metadata": {},
   "outputs": [],
   "source": [
    "# Term Frequency using Count Vectorizer\n",
    "cvect = CountVectorizer()\n",
    "X_train_dtm_c = cvect.fit_transform(X_train['review'])\n",
    "X_test_dtm_c = cvect.transform(X_test['review'])"
   ]
  },
  {
   "cell_type": "code",
   "execution_count": null,
   "metadata": {},
   "outputs": [],
   "source": [
    "nb = MultinomialNB()\n",
    "nb.fit(X_train_dtm_c, y_train)\n",
    "y_pred_class_train_c = nb.predict(X_train_dtm_c)\n",
    "y_pred_class_test_c = nb.predict(X_test_dtm_c)"
   ]
  },
  {
   "cell_type": "code",
   "execution_count": null,
   "metadata": {},
   "outputs": [],
   "source": [
    "print('--- Train ---')\n",
    "print('Accuracy:', metrics.accuracy_score(y_train, y_pred_class_train_c))\n",
    "print('Precision:', metrics.precision_score(y_train, y_pred_class_train_c))\n",
    "print('Recall:', metrics.recall_score(y_train, y_pred_class_train_c))\n",
    "print('ROC_AUC:', metrics.roc_auc_score(y_train, y_pred_class_train_c))\n",
    "\n",
    "print('\\nConfusion Matrix:')\n",
    "print(metrics.confusion_matrix(y_train, y_pred_class_train_c))\n",
    "\n",
    "\n",
    "print('\\n--- Test ---')\n",
    "print('Accuracy:', metrics.accuracy_score(y_test, y_pred_class_test_c))\n",
    "print('Precision:', metrics.precision_score(y_test, y_pred_class_test_c))\n",
    "print('Recall:', metrics.recall_score(y_test, y_pred_class_test_c))\n",
    "print('ROC_AUC:', metrics.roc_auc_score(y_test, y_pred_class_test_c))\n",
    "\n",
    "print('\\nConfusion Matrix:')\n",
    "print(metrics.confusion_matrix(y_test, y_pred_class_test_c))"
   ]
  },
  {
   "cell_type": "code",
   "execution_count": null,
   "metadata": {},
   "outputs": [],
   "source": [
    "# Using TFIDF\n",
    "tvect = TfidfVectorizer()\n",
    "X_train_dtm_t = tvect.fit_transform(X_train['review'])\n",
    "X_test_dtm_t = tvect.transform(X_test['review'])"
   ]
  },
  {
   "cell_type": "code",
   "execution_count": null,
   "metadata": {},
   "outputs": [],
   "source": [
    "nb = MultinomialNB()\n",
    "nb.fit(X_train_dtm_t, y_train)\n",
    "y_pred_class_train_t = nb.predict(X_train_dtm_t)\n",
    "y_pred_class_test_t = nb.predict(X_test_dtm_t)"
   ]
  }
 ],
 "metadata": {
  "kernelspec": {
   "display_name": "Python 3",
   "language": "python",
   "name": "python3"
  },
  "language_info": {
   "codemirror_mode": {
    "name": "ipython",
    "version": 3
   },
   "file_extension": ".py",
   "mimetype": "text/x-python",
   "name": "python",
   "nbconvert_exporter": "python",
   "pygments_lexer": "ipython3",
   "version": "3.7.6"
  }
 },
 "nbformat": 4,
 "nbformat_minor": 4
}
